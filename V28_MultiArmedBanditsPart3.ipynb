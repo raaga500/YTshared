{
 "cells": [
  {
   "cell_type": "markdown",
   "id": "8216ae09-c831-4ccf-be53-170d246ad01c",
   "metadata": {},
   "source": [
    "# Multi-Armed Bandits Part-3"
   ]
  },
  {
   "cell_type": "markdown",
   "id": "7e122238-35b8-4d4c-9099-9b6fe1b988aa",
   "metadata": {},
   "source": [
    "**Youtube Video:-**\n",
    "https://youtu.be/K9NZw3pwC1c"
   ]
  },
  {
   "cell_type": "markdown",
   "id": "4f9ccec2-cf44-4ab7-88c9-ac0603ea9344",
   "metadata": {},
   "source": [
    "## Key TakeAways"
   ]
  },
  {
   "cell_type": "markdown",
   "id": "d73cbedb-648c-450f-9f64-c2afab6e6d2f",
   "metadata": {},
   "source": [
    "1. What are initial values\n",
    "2. What is Optimistic Greedy Algorithm\n",
    "3. How to implement Optimistic Greedy Algorithm\n",
    "4. Comparison with Epsilon-Greedy Method"
   ]
  },
  {
   "cell_type": "markdown",
   "id": "abba3688-a0cc-4918-9ca3-b2ad994b9cca",
   "metadata": {},
   "source": [
    "## Optimistic Initial Values"
   ]
  },
  {
   "cell_type": "markdown",
   "id": "9b9ffa79-198b-41ad-8eb5-19be98498f97",
   "metadata": {},
   "source": [
    "- Previous methods use 0 as the default initial value for the q value estimates\n",
    "- This means they depend to some extent on the initial action-value estimates Q1(a)\n",
    "- You can also say they are biased by their initial estimates\n",
    "- In sample-average method the bias disappears once all actions have been selected once\n",
    "- For methods using constant alpha the bias is permanent, though decreasing over time\n",
    "- However, in practice this bias is usually not a problem and can be very helpful sometimes"
   ]
  },
  {
   "cell_type": "markdown",
   "id": "3e46d5ab-8ce7-4b7b-90e4-2b79081c85f7",
   "metadata": {},
   "source": [
    "- **Downside** is that initial estimates acts as set of parameters that must be picked by the user, even if  they are set to 0\n",
    "- **Upside** is that it provides an easy way to **supply some prior knowledge** about level of rewards that can be expected"
   ]
  },
  {
   "cell_type": "markdown",
   "id": "8f1a899a-2b80-48be-818c-e7ca43328f96",
   "metadata": {},
   "source": [
    "### Encourage Exploration"
   ]
  },
  {
   "cell_type": "markdown",
   "id": "58894d3b-9a97-4dcd-8d9b-11bc5a42ab28",
   "metadata": {},
   "source": [
    "- Initial action values can also be used as a way to encourage exploration\n",
    "- Suppose that we set the action vaues for all actions to +5 in 10-armed testbed problem instead of 0\n",
    "   - As we discussed in part-1 that q*(a) true action values are selected from a normal distribution with mean 0 and variance 1.\n",
    "   - Initial estimate of +5 is wildy optimistic but it encourages exploration because whichever actions are initially selected the reward is less than starting estimates\n",
    "   - This means the agent switches to other actions after being disappointed with the rewards it is receiving\n",
    "   - This means that all actions are tried several times before the value estimates converge\n",
    "   - The system does a fair amount of exploration even if greedy actions are selected all the time\n",
    "  "
   ]
  },
  {
   "cell_type": "markdown",
   "id": "422a2bc0-2425-4631-aef7-f3c3f57dffbe",
   "metadata": {},
   "source": [
    "## Implementation - Optimistic Greedy vs Epsilon Greedy method"
   ]
  },
  {
   "cell_type": "code",
   "execution_count": 10,
   "id": "8b3d7f0e-be60-4f25-83ed-b9f41a73e35d",
   "metadata": {},
   "outputs": [],
   "source": [
    "import numpy as np\n",
    "import matplotlib.pyplot as plt\n",
    "\n",
    "\n",
    "def add_random_walk():\n",
    "    #sample_walk = np.random.normal(0,0.01)\n",
    "    global q_star_a \n",
    "    q_star_a = [x + np.random.normal(0,0.01) for x in q_star_a]\n",
    "    \n",
    "\n",
    "def max_index(q_a):\n",
    "    #break ties randomly\n",
    "    q_a = np.array(q_a)\n",
    "    return np.random.choice(np.where(q_a == q_a.max())[0])\n",
    "\n",
    "def bandit(a):\n",
    "    #each reward for the action will come fromthe prob distribution of that action\n",
    "    #which has a mean of q*(a) and variance of 1\n",
    "    #add_random_walk()\n",
    "    reward = np.random.normal(q_star_a[a],1) \n",
    "    return reward\n",
    "    \n",
    "def one_run(eps,k,steps,constant_step_size=False,alpha=1.0,q_a_init=None):\n",
    "    q_a = q_a_init\n",
    "    n_a = [0]*k\n",
    "    n_a_steps = []\n",
    "    q_a_steps = []\n",
    "    r_steps =[]\n",
    "    a_steps =[]\n",
    "    optimal_action_count = []\n",
    "  \n",
    "    for step in range(steps):\n",
    "        if np.random.random() < eps:\n",
    "            a = np.random.choice(range(k))\n",
    "        else:\n",
    "            a = max_index(q_a)\n",
    "        r = bandit(a)\n",
    "    \n",
    "        if a == np.argmax(q_star_a) :\n",
    "            optimal_action_count.append(1)\n",
    "        else:\n",
    "            optimal_action_count.append(0)\n",
    "            \n",
    "        a_steps.append(a)\n",
    "        \n",
    "        if constant_step_size:\n",
    "            alpha = alpha\n",
    "        else:\n",
    "            n_a[a] += 1\n",
    "            alpha = 1/n_a[a]\n",
    "        q_a[a] = q_a[a] + (alpha) * (r - q_a[a])\n",
    "       \n",
    "        n_a_steps.append(n_a.copy())\n",
    "        q_a_steps.append(q_a.copy())\n",
    "        r_steps.append(r)\n",
    "    \n",
    "    return q_star_a, n_a_steps, q_a_steps, r_steps, a_steps, optimal_action_count\n",
    "\n",
    "\n"
   ]
  },
  {
   "cell_type": "code",
   "execution_count": 11,
   "id": "e0979739-258b-4b43-9009-c32c79f68731",
   "metadata": {},
   "outputs": [],
   "source": [
    "def run_bandit(n_runs=2000,n_steps=1000,eps=0.01,constant_step_size=False,alpha=1.0,initial=0.0):\n",
    "    n_a_runs = []\n",
    "    q_a_runs = []\n",
    "    r_a_runs = []\n",
    "    o_a_runs = []\n",
    "    \n",
    "    for run in range(n_runs):\n",
    "        q_a_init = [initial]*10 \n",
    "        q_star_a,n_a,q_a,r_a,a_steps,optimal_action = one_run(eps,k=10,steps=n_steps,constant_step_size=constant_step_size,alpha=alpha,q_a_init=q_a_init)\n",
    "            \n",
    "        n_a_runs.append(n_a.copy())\n",
    "        q_a_runs.append(q_a.copy())\n",
    "        r_a_runs.append(r_a.copy())\n",
    "        o_a_runs.append(optimal_action.copy())\n",
    "    \n",
    "    r_values= np.array(r_a_runs)\n",
    "    avg_rewards = r_values.mean(axis=0)\n",
    "\n",
    "    o_values= np.array(o_a_runs)\n",
    "    optimal_action_perc = o_values.mean(axis=0)\n",
    "    return avg_rewards,optimal_action_perc"
   ]
  },
  {
   "cell_type": "code",
   "execution_count": 12,
   "id": "7f39bd60-45e5-405d-9e6d-721d67ccd495",
   "metadata": {},
   "outputs": [
    {
     "data": {
      "text/plain": [
       "<matplotlib.legend.Legend at 0x31b8e3d40>"
      ]
     },
     "execution_count": 12,
     "metadata": {},
     "output_type": "execute_result"
    },
    {
     "data": {
      "image/png": "[encoded data removed]",
      "text/plain": [
       "<Figure size 640x480 with 1 Axes>"
      ]
     },
     "metadata": {},
     "output_type": "display_data"
    }
   ],
   "source": [
    "k=10\n",
    "#Initialize true value for each action\n",
    "q_star_a = np.random.normal(0,1,k)\n",
    "\n",
    "n_steps=1000\n",
    "alpha=0.1\n",
    "constant_step_size=True\n",
    "eps=0.1\n",
    "\n",
    "initial=0.0\n",
    "rewards,optimal_action_perc = run_bandit(n_steps=n_steps,eps=eps,constant_step_size=constant_step_size,alpha=alpha,initial=initial)\n",
    "plt.plot(optimal_action_perc,label=f'Realistic, epsilon={eps}');\n",
    "plt.legend()\n",
    "\n",
    "#Assign optimistic values of 5 to initial estimates\n",
    "\n",
    "eps=0.0\n",
    "initial=5.0\n",
    "rewards,optimal_action_perc = run_bandit(n_steps=n_steps,eps=eps,constant_step_size=constant_step_size,alpha=alpha,initial=initial)\n",
    "plt.plot(optimal_action_perc,label=f'Optimistic Greedy, epsilon={eps}');\n",
    "plt.xlabel('Steps')\n",
    "plt.ylabel('% optimal action')\n",
    "plt.legend()"
   ]
  },
  {
   "cell_type": "code",
   "execution_count": 13,
   "id": "f8bf3e34-7234-4b95-b527-c7c4ed14a758",
   "metadata": {},
   "outputs": [
    {
     "data": {
      "text/plain": [
       "array([ 0.5723988 , -1.99559836, -1.20068567, -0.85193905, -0.3550477 ,\n",
       "       -0.55233143,  2.00651625,  0.64291947,  0.3014478 ,  0.53741587])"
      ]
     },
     "execution_count": 13,
     "metadata": {},
     "output_type": "execute_result"
    }
   ],
   "source": [
    "q_star_a"
   ]
  },
  {
   "cell_type": "markdown",
   "id": "70af53c5-a14c-43d3-b06b-a77f79f2a444",
   "metadata": {},
   "source": [
    "- Initially optimistic greedy method performs worse because it explores more, but eventually it gets better because exploration decreases with time\n",
    "- This technique of encouraging exploration is call Optimistic Initial values\n",
    "- It is a simple trick that can be quite effective for stationary problems\n",
    "- But not for non-stationary problems because its drive for exploration is temporary\n",
    "  - This means if the task changes, that creates a renewed need for exploration, then this method cannot help\n",
    "  - Any method that focuses on inital conditions or also called beginning of time is unlikely to help wtih general non stationary case, because beginning of time occurs only once and we should not focus on it too much\n",
    "    \n",
    " "
   ]
  },
  {
   "cell_type": "markdown",
   "id": "7c7e2627-99d4-4aeb-bd7f-431004a03215",
   "metadata": {},
   "source": [
    "## Early Spikes"
   ]
  },
  {
   "cell_type": "markdown",
   "id": "b84f1ab0-8a85-4885-a0c0-b834c1f32236",
   "metadata": {},
   "source": [
    "The optimistic greedy policy will explore on every initial step as all value estimates are greater\n",
    "than their true value. It is possible, therefore, that it randomly selects the optimal action and\n",
    "then immediately forgets it in favour of yet-to-be-explored actions. This explains the spike at\n",
    "timestep ≈ 10."
   ]
  },
  {
   "cell_type": "markdown",
   "id": "69401c72-38e7-4ea9-aa74-8607faeee428",
   "metadata": {},
   "source": [
    "## Conlcusion"
   ]
  },
  {
   "cell_type": "markdown",
   "id": "02d48351-9ba8-4248-b511-88989fd37ed7",
   "metadata": {},
   "source": [
    "In the upcoming videos we will continue our journey in the Multi-Armed Bandits and learn about\n",
    "- Upper Confidence Bound (UCB) methods\n",
    "- Gradient Bandit Algorithms\n",
    "- Contextual bandits\n",
    "- Finally a comparison of all the Bandit algorithms and decide which one is best\n",
    "  "
   ]
  },
  {
   "cell_type": "code",
   "execution_count": null,
   "id": "a37932c2-6b0f-4351-9906-695d19b043b4",
   "metadata": {},
   "outputs": [],
   "source": []
  }
 ],
 "metadata": {
  "kernelspec": {
   "display_name": "Python 3 (ipykernel)",
   "language": "python",
   "name": "python3"
  },
  "language_info": {
   "codemirror_mode": {
    "name": "ipython",
    "version": 3
   },
   "file_extension": ".py",
   "mimetype": "text/x-python",
   "name": "python",
   "nbconvert_exporter": "python",
   "pygments_lexer": "ipython3",
   "version": "3.12.4"
  }
 },
 "nbformat": 4,
 "nbformat_minor": 5
}
