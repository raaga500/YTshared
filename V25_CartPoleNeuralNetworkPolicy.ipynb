{
 "cells": [
  {
   "cell_type": "markdown",
   "id": "af739f4f-0e2e-459f-ae44-5877c208c1dd",
   "metadata": {},
   "source": [
    "# RL agent for Cartpole using Neural Network Policy using Policy Gradient Method"
   ]
  },
  {
   "cell_type": "markdown",
   "id": "59c05a04-526c-44bb-af66-faa345753aec",
   "metadata": {
    "editable": true,
    "slideshow": {
     "slide_type": ""
    },
    "tags": []
   },
   "source": [
    "![NN](./images/NNPolicy.png)"
   ]
  },
  {
   "cell_type": "markdown",
   "id": "21f5531e-8d51-4580-a693-dca7c5f2ce9e",
   "metadata": {},
   "source": [
    "### Dependencies"
   ]
  },
  {
   "cell_type": "code",
   "execution_count": 1,
   "id": "d63c4838-95e9-4b6f-8403-fbafc65092e3",
   "metadata": {},
   "outputs": [],
   "source": [
    "import tensorflow as tf\n",
    "from tensorflow import keras\n",
    "import numpy as np\n",
    "import gymnasium as gym"
   ]
  },
  {
   "cell_type": "code",
   "execution_count": 74,
   "id": "596d4b5d-359a-4401-89e6-19b02b205380",
   "metadata": {},
   "outputs": [],
   "source": [
    "env = gym.make(\"CartPole-v1\")"
   ]
  },
  {
   "cell_type": "code",
   "execution_count": 75,
   "id": "e832345d-ab15-4981-8fe1-8be577c4b2df",
   "metadata": {},
   "outputs": [
    {
     "name": "stdout",
     "output_type": "stream",
     "text": [
      "2.17.0\n"
     ]
    }
   ],
   "source": [
    "print(tf.__version__)"
   ]
  },
  {
   "cell_type": "markdown",
   "id": "6941ed72-2ef3-4576-babb-78c3a6a21dec",
   "metadata": {},
   "source": [
    "## Create Neural Network Model"
   ]
  },
  {
   "cell_type": "code",
   "execution_count": 76,
   "id": "827ea3f8-0a39-46a3-9cb2-f7c621c65ea1",
   "metadata": {},
   "outputs": [],
   "source": [
    "n_inputs = 4\n",
    "\n",
    "model = keras.models.Sequential([\n",
    "    keras.layers.Dense(5,activation=\"elu\",input_shape=[n_inputs]),\n",
    "    keras.layers.Dense(1,activation=\"sigmoid\"),\n",
    "])"
   ]
  },
  {
   "cell_type": "markdown",
   "id": "c9c03b0c-fa12-4904-8089-1d08c3b15d31",
   "metadata": {},
   "source": [
    "### Play One Step"
   ]
  },
  {
   "cell_type": "code",
   "execution_count": 77,
   "id": "0eca7c0d-ba2e-4021-bb60-4cab947aebf2",
   "metadata": {},
   "outputs": [],
   "source": [
    "def play_one_step(env, obs, model, loss_fn): \n",
    "    with tf.GradientTape() as tape:\n",
    "         left_proba = model(obs[np.newaxis])\n",
    "         action = (tf.random.uniform([1, 1]) > left_proba)\n",
    "         y_target = tf.constant([[1.]]) - tf.cast(action, tf.float32)\n",
    "         loss = tf.reduce_mean(loss_fn(y_target, left_proba))\n",
    "    grads = tape.gradient(loss, model.trainable_variables)\n",
    "    obs, reward, done, terminated,info = env.step(int(action[0, 0].numpy())) \n",
    "    return obs, reward, done, grads"
   ]
  },
  {
   "cell_type": "code",
   "execution_count": 78,
   "id": "fe1acbc7-6c7b-4d55-98b9-bcc66aeaabff",
   "metadata": {},
   "outputs": [
    {
     "name": "stdout",
     "output_type": "stream",
     "text": [
      "(4,)\n",
      "(1, 4)\n"
     ]
    }
   ],
   "source": [
    "np.newaxis\n",
    "print(obs.shape)\n",
    "print(obs[np.newaxis].shape)"
   ]
  },
  {
   "cell_type": "code",
   "execution_count": 79,
   "id": "a04bbe88-8d3f-47c3-a9e8-f3a8a75331b4",
   "metadata": {},
   "outputs": [
    {
     "name": "stdout",
     "output_type": "stream",
     "text": [
      "left_proba: [[0.72566235]]\n",
      "action: [[ True]]\n",
      "y_target: [[0.]]\n",
      "loss: 1.293395757675171\n",
      "[<tf.Tensor: shape=(4, 5), dtype=float32, numpy=\n",
      "array([[-0.4776177 ,  0.45922408,  0.52160054,  0.7995444 ,  0.29034433],\n",
      "       [ 0.02009101, -0.01931729, -0.02194116, -0.03363288, -0.01221335],\n",
      "       [ 0.01338782, -0.01287224, -0.01462067, -0.02241155, -0.00813847],\n",
      "       [-0.12374416,  0.11897862,  0.1351395 ,  0.20715092,  0.07522421]],\n",
      "      dtype=float32)>, <tf.Tensor: shape=(5,), dtype=float32, numpy=\n",
      "array([-0.39170828,  0.37662312,  0.42777988,  0.6557298 ,  0.2381199 ],\n",
      "      dtype=float32)>, <tf.Tensor: shape=(5, 1), dtype=float32, numpy=\n",
      "array([[-0.29392672],\n",
      "       [ 0.6520673 ],\n",
      "       [-0.04958965],\n",
      "       [ 0.05024721],\n",
      "       [ 0.2643369 ]], dtype=float32)>, <tf.Tensor: shape=(1,), dtype=float32, numpy=array([0.72566235], dtype=float32)>]\n"
     ]
    }
   ],
   "source": [
    "with tf.GradientTape() as tape:\n",
    "    left_proba = model(obs[np.newaxis])\n",
    "    print(f\"left_proba: {left_proba}\")\n",
    "    action = (tf.random.uniform([1, 1]) > left_proba)\n",
    "    print(f\"action: {action}\")\n",
    "    y_target = tf.constant([[1.]]) - tf.cast(action, tf.float32)\n",
    "    print(f\"y_target: {y_target}\")\n",
    "    loss = tf.reduce_mean(loss_fn(y_target, left_proba))\n",
    "    print(f\"loss: {loss}\")\n",
    "grads = tape.gradient(loss, model.trainable_variables)\n",
    "print(grads)"
   ]
  },
  {
   "cell_type": "code",
   "execution_count": 80,
   "id": "bf6a51e2-6765-48d1-afec-a6b4b431ce22",
   "metadata": {},
   "outputs": [
    {
     "name": "stdout",
     "output_type": "stream",
     "text": [
      "left_proba: [[0.72566235]]\n",
      "action: [[False]]\n",
      "y_target: [[1.]]\n",
      "loss: 0.3206704258918762\n",
      "[<tf.Tensor: shape=(4, 5), dtype=float32, numpy=\n",
      "array([[ 0.18056405, -0.1736103 , -0.19719179, -0.30226883, -0.10976508],\n",
      "       [-0.00759544,  0.00730293,  0.00829488,  0.01271496,  0.00461727],\n",
      "       [-0.00506128,  0.00486637,  0.00552737,  0.00847272,  0.00307676],\n",
      "       [ 0.04678165, -0.04498003, -0.05108967, -0.07831369, -0.02843861]],\n",
      "      dtype=float32)>, <tf.Tensor: shape=(5,), dtype=float32, numpy=\n",
      "array([ 0.14808586, -0.14238289, -0.16172276, -0.24789953, -0.09002155],\n",
      "      dtype=float32)>, <tf.Tensor: shape=(5, 1), dtype=float32, numpy=\n",
      "array([[ 0.1111194 ],\n",
      "       [-0.24651493],\n",
      "       [ 0.01874743],\n",
      "       [-0.01899603],\n",
      "       [-0.09993294]], dtype=float32)>, <tf.Tensor: shape=(1,), dtype=float32, numpy=array([-0.27433765], dtype=float32)>]\n"
     ]
    }
   ],
   "source": [
    "with tf.GradientTape() as tape:\n",
    "    left_proba = model(obs[np.newaxis])\n",
    "    print(f\"left_proba: {left_proba}\")\n",
    "    action = (tf.random.uniform([1, 1]) > left_proba)\n",
    "    print(f\"action: {action}\")\n",
    "    y_target = tf.constant([[1.]]) - tf.cast(action, tf.float32)\n",
    "    print(f\"y_target: {y_target}\")\n",
    "    loss = tf.reduce_mean(loss_fn(y_target, left_proba))\n",
    "    print(f\"loss: {loss}\")\n",
    "grads = tape.gradient(loss, model.trainable_variables)\n",
    "print(grads)"
   ]
  },
  {
   "cell_type": "code",
   "execution_count": 81,
   "id": "0b8f81a1-968c-4c78-96fe-90480204449a",
   "metadata": {},
   "outputs": [
    {
     "data": {
      "text/plain": [
       "[<KerasVariable shape=(4, 5), dtype=float32, path=sequential_1/dense_2/kernel>,\n",
       " <KerasVariable shape=(5,), dtype=float32, path=sequential_1/dense_2/bias>,\n",
       " <KerasVariable shape=(5, 1), dtype=float32, path=sequential_1/dense_3/kernel>,\n",
       " <KerasVariable shape=(1,), dtype=float32, path=sequential_1/dense_3/bias>]"
      ]
     },
     "execution_count": 81,
     "metadata": {},
     "output_type": "execute_result"
    }
   ],
   "source": [
    "model.trainable_variables"
   ]
  },
  {
   "cell_type": "markdown",
   "id": "b963c68a-54b5-4eb7-8b6d-4d94e65bfc89",
   "metadata": {},
   "source": [
    "### Play Multiple Episodes"
   ]
  },
  {
   "cell_type": "code",
   "execution_count": 82,
   "id": "20686168-dbc0-4ad6-9292-456c05a325d0",
   "metadata": {},
   "outputs": [],
   "source": [
    "def play_multiple_episodes(env, n_episodes, n_max_steps, model, loss_fn):\n",
    "    all_rewards = []\n",
    "    all_grads = []\n",
    "    for episode in range(n_episodes):\n",
    "        current_rewards = []\n",
    "        current_grads = []\n",
    "        obs = env.reset()[0]\n",
    "        for step in range(n_max_steps):\n",
    "            obs, reward, done, grads = play_one_step(env,obs,model,loss_fn)\n",
    "            current_rewards.append(reward)\n",
    "            current_grads.append(grads)\n",
    "            if done:\n",
    "                break\n",
    "        all_rewards.append(current_rewards)\n",
    "        all_grads.append(current_grads)\n",
    "    return all_rewards, all_grads"
   ]
  },
  {
   "cell_type": "code",
   "execution_count": 91,
   "id": "91eacd18-de4c-4d7e-bb93-7ce9f70600be",
   "metadata": {},
   "outputs": [
    {
     "data": {
      "text/plain": [
       "19"
      ]
     },
     "execution_count": 91,
     "metadata": {},
     "output_type": "execute_result"
    }
   ],
   "source": [
    "env = gym.make(\"CartPole-v1\")\n",
    "n_episodes=10\n",
    "n_max_steps=500\n",
    "loss_fn = keras.losses.binary_crossentropy\n",
    "\n",
    "all_rewards, all_grads = play_multiple_episodes(env,n_episodes,n_max_steps,model,loss_fn)\n",
    "\n",
    "len(all_grads[0])"
   ]
  },
  {
   "cell_type": "code",
   "execution_count": 111,
   "id": "604a971e-ba4c-4612-8e3d-6f4f2d29e9f7",
   "metadata": {},
   "outputs": [
    {
     "data": {
      "text/plain": [
       "19"
      ]
     },
     "execution_count": 111,
     "metadata": {},
     "output_type": "execute_result"
    }
   ],
   "source": [
    "len(all_rewards[0])"
   ]
  },
  {
   "cell_type": "code",
   "execution_count": 105,
   "id": "e3a9d987-8ee7-4e4b-8c1c-79e98ce07071",
   "metadata": {
    "collapsed": true,
    "jupyter": {
     "outputs_hidden": true
    }
   },
   "outputs": [
    {
     "name": "stdout",
     "output_type": "stream",
     "text": [
      "19\n"
     ]
    },
    {
     "data": {
      "text/plain": [
       "[[<tf.Tensor: shape=(4, 5), dtype=float32, numpy=\n",
       "  array([[ 0.01386217, -0.00792973, -0.00966748, -0.01380628, -0.00501357],\n",
       "         [ 0.01094549, -0.00626128, -0.00763339, -0.01090136, -0.00395869],\n",
       "         [ 0.01707972, -0.00977031, -0.0119114 , -0.01701086, -0.00617727],\n",
       "         [ 0.00563668, -0.00322442, -0.00393102, -0.00561395, -0.00203864]],\n",
       "        dtype=float32)>,\n",
       "  <tf.Tensor: shape=(5,), dtype=float32, numpy=\n",
       "  array([ 0.44517198, -0.25465685, -0.31046304, -0.4433771 , -0.16100673],\n",
       "        dtype=float32)>,\n",
       "  <tf.Tensor: shape=(5, 1), dtype=float32, numpy=\n",
       "  array([[-0.00579038],\n",
       "         [-0.01664073],\n",
       "         [-0.01892053],\n",
       "         [-0.00054808],\n",
       "         [-0.00755161]], dtype=float32)>,\n",
       "  <tf.Tensor: shape=(1,), dtype=float32, numpy=array([-0.4906626], dtype=float32)>],\n",
       " [<tf.Tensor: shape=(4, 5), dtype=float32, numpy=\n",
       "  array([[-0.0131865 ,  0.00931124,  0.01065102,  0.01456957,  0.00588703],\n",
       "         [ 0.07131463, -0.05035663, -0.05760239, -0.07879448, -0.03183797],\n",
       "         [-0.0161002 ,  0.01136866,  0.01300449,  0.01778888,  0.00718784],\n",
       "         [-0.13223693,  0.09337504,  0.10681067,  0.14610663,  0.05903636]],\n",
       "        dtype=float32)>,\n",
       "  <tf.Tensor: shape=(5,), dtype=float32, numpy=\n",
       "  array([-0.41688988,  0.294374  ,  0.3367311 ,  0.4606155 ,  0.1861179 ],\n",
       "        dtype=float32)>,\n",
       "  <tf.Tensor: shape=(5, 1), dtype=float32, numpy=\n",
       "  array([[-0.1076976 ],\n",
       "         [ 0.13264069],\n",
       "         [-0.03501077],\n",
       "         [-0.05744857],\n",
       "         [ 0.18550424]], dtype=float32)>,\n",
       "  <tf.Tensor: shape=(1,), dtype=float32, numpy=array([0.567188], dtype=float32)>],\n",
       " [<tf.Tensor: shape=(4, 5), dtype=float32, numpy=\n",
       "  array([[ 0.01250282, -0.00715213, -0.00871947, -0.01230187, -0.00452193],\n",
       "         [ 0.01041012, -0.00595502, -0.00726002, -0.01024281, -0.00376506],\n",
       "         [ 0.01992861, -0.01139999, -0.01389822, -0.01960832, -0.00720764],\n",
       "         [ 0.01637275, -0.00936589, -0.01141836, -0.01610961, -0.00592158]],\n",
       "        dtype=float32)>,\n",
       "  <tf.Tensor: shape=(5,), dtype=float32, numpy=\n",
       "  array([ 0.4432149 , -0.25353733, -0.30909818, -0.4360916 , -0.16029891],\n",
       "        dtype=float32)>,\n",
       "  <tf.Tensor: shape=(5, 1), dtype=float32, numpy=\n",
       "  array([[-0.00263155],\n",
       "         [-0.02031272],\n",
       "         [-0.02188568],\n",
       "         [ 0.00590543],\n",
       "         [-0.01766893]], dtype=float32)>,\n",
       "  <tf.Tensor: shape=(1,), dtype=float32, numpy=array([-0.48850554], dtype=float32)>],\n",
       " [<tf.Tensor: shape=(4, 5), dtype=float32, numpy=\n",
       "  array([[-0.01192025,  0.0084764 ,  0.00976138,  0.01307443,  0.0053592 ],\n",
       "         [ 0.07159396, -0.05090994, -0.05862764, -0.07852607, -0.0321878 ],\n",
       "         [-0.01899591,  0.01350785,  0.01555557,  0.02083519,  0.00854034],\n",
       "         [-0.14275816,  0.10151428,  0.11690336,  0.15658078,  0.06418239]],\n",
       "        dtype=float32)>,\n",
       "  <tf.Tensor: shape=(5,), dtype=float32, numpy=\n",
       "  array([-0.41564175,  0.2955598 ,  0.34036526,  0.45588642,  0.18686762],\n",
       "        dtype=float32)>,\n",
       "  <tf.Tensor: shape=(5, 1), dtype=float32, numpy=\n",
       "  array([[-0.11135801],\n",
       "         [ 0.1379576 ],\n",
       "         [-0.03155202],\n",
       "         [-0.06496675],\n",
       "         [ 0.19905302]], dtype=float32)>,\n",
       "  <tf.Tensor: shape=(1,), dtype=float32, numpy=array([0.5694728], dtype=float32)>],\n",
       " [<tf.Tensor: shape=(4, 5), dtype=float32, numpy=\n",
       "  array([[-0.01174344,  0.00673359,  0.00820921,  0.01140275,  0.00425731],\n",
       "         [-0.01032852,  0.00592229,  0.00722012,  0.01002888,  0.00374437],\n",
       "         [-0.02446584,  0.01402851,  0.01710276,  0.02375606,  0.00886952],\n",
       "         [-0.03049925,  0.01748802,  0.0213204 ,  0.02961444,  0.0110568 ]],\n",
       "        dtype=float32)>,\n",
       "  <tf.Tensor: shape=(5,), dtype=float32, numpy=\n",
       "  array([-0.46537882,  0.26684442,  0.32532144,  0.45187765,  0.16871233],\n",
       "        dtype=float32)>,\n",
       "  <tf.Tensor: shape=(5, 1), dtype=float32, numpy=\n",
       "  array([[-0.00121083],\n",
       "         [ 0.02612384],\n",
       "         [ 0.02675816],\n",
       "         [-0.01407539],\n",
       "         [ 0.03117349]], dtype=float32)>,\n",
       "  <tf.Tensor: shape=(1,), dtype=float32, numpy=array([0.51414514], dtype=float32)>],\n",
       " [<tf.Tensor: shape=(4, 5), dtype=float32, numpy=\n",
       "  array([[-0.01067146,  0.00529716,  0.00744228,  0.01062844,  0.00307262],\n",
       "         [-0.08998469,  0.0446671 ,  0.06275534,  0.08962189,  0.02590913],\n",
       "         [-0.02239293,  0.01111553,  0.01561683,  0.02230265,  0.00644756],\n",
       "         [ 0.08731797, -0.04334338, -0.06089557, -0.08696592, -0.02514131]],\n",
       "        dtype=float32)>,\n",
       "  <tf.Tensor: shape=(5,), dtype=float32, numpy=\n",
       "  array([-0.41558737,  0.20629156,  0.2898307 ,  0.4139118 ,  0.11965933],\n",
       "        dtype=float32)>,\n",
       "  <tf.Tensor: shape=(5, 1), dtype=float32, numpy=\n",
       "  array([[ 0.09582348],\n",
       "         [-0.06058051],\n",
       "         [ 0.07249047],\n",
       "         [ 0.02891335],\n",
       "         [-0.09339704]], dtype=float32)>,\n",
       "  <tf.Tensor: shape=(1,), dtype=float32, numpy=array([0.45805484], dtype=float32)>],\n",
       " [<tf.Tensor: shape=(4, 5), dtype=float32, numpy=\n",
       "  array([[ 0.01601401, -0.00654596, -0.01116817, -0.01594944, -0.00345072],\n",
       "         [ 0.21924216, -0.08961847, -0.15289953, -0.21835819, -0.04724254],\n",
       "         [ 0.02651193, -0.01083714, -0.01848942, -0.02640503, -0.00571282],\n",
       "         [-0.25898954,  0.1058658 ,  0.18061937,  0.25794533,  0.05580736]],\n",
       "        dtype=float32)>,\n",
       "  <tf.Tensor: shape=(5,), dtype=float32, numpy=\n",
       "  array([ 0.53364897, -0.21813689, -0.37216693, -0.53149736, -0.11499128],\n",
       "        dtype=float32)>,\n",
       "  <tf.Tensor: shape=(5, 1), dtype=float32, numpy=\n",
       "  array([[-0.24573964],\n",
       "         [ 0.16788337],\n",
       "         [-0.15379019],\n",
       "         [-0.08979081],\n",
       "         [ 0.23774874]], dtype=float32)>,\n",
       "  <tf.Tensor: shape=(1,), dtype=float32, numpy=array([-0.5881808], dtype=float32)>],\n",
       " [<tf.Tensor: shape=(4, 5), dtype=float32, numpy=\n",
       "  array([[ 0.01876825, -0.00935265, -0.01308898, -0.01869258, -0.00552289],\n",
       "         [ 0.10558737, -0.05261662, -0.07363666, -0.10516165, -0.03107094],\n",
       "         [ 0.01962693, -0.00978055, -0.01368783, -0.0195478 , -0.00577557],\n",
       "         [-0.0871022 ,  0.04340503,  0.06074509,  0.08675101,  0.02563135]],\n",
       "        dtype=float32)>,\n",
       "  <tf.Tensor: shape=(5,), dtype=float32, numpy=\n",
       "  array([ 0.4909913 , -0.24467228, -0.34241745, -0.48901168, -0.1444828 ],\n",
       "        dtype=float32)>,\n",
       "  <tf.Tensor: shape=(5, 1), dtype=float32, numpy=\n",
       "  array([[-0.10222194],\n",
       "         [ 0.0697393 ],\n",
       "         [-0.08335546],\n",
       "         [-0.02211612],\n",
       "         [ 0.10085756]], dtype=float32)>,\n",
       "  <tf.Tensor: shape=(1,), dtype=float32, numpy=array([-0.54116404], dtype=float32)>],\n",
       " [<tf.Tensor: shape=(4, 5), dtype=float32, numpy=\n",
       "  array([[-0.01926768,  0.01142511,  0.01392884,  0.01858726,  0.00722353],\n",
       "         [-0.00878012,  0.00520633,  0.00634726,  0.00847006,  0.0032917 ],\n",
       "         [-0.01650385,  0.00978625,  0.01193083,  0.01592103,  0.00618735],\n",
       "         [-0.05782173,  0.03428642,  0.04180004,  0.05577981,  0.02167758]],\n",
       "        dtype=float32)>,\n",
       "  <tf.Tensor: shape=(5,), dtype=float32, numpy=\n",
       "  array([-0.4530777 ,  0.2686605 ,  0.32753548,  0.4370777 ,  0.16986054],\n",
       "        dtype=float32)>,\n",
       "  <tf.Tensor: shape=(5, 1), dtype=float32, numpy=\n",
       "  array([[-0.0182681 ],\n",
       "         [ 0.03195056],\n",
       "         [ 0.0257008 ],\n",
       "         [-0.03395289],\n",
       "         [ 0.05427824]], dtype=float32)>,\n",
       "  <tf.Tensor: shape=(1,), dtype=float32, numpy=array([0.5176443], dtype=float32)>],\n",
       " [<tf.Tensor: shape=(4, 5), dtype=float32, numpy=\n",
       "  array([[-0.01792741,  0.00899587,  0.01250258,  0.01785513,  0.00537521],\n",
       "         [-0.08938289,  0.04485179,  0.06233565,  0.08902251,  0.02679986],\n",
       "         [-0.01628342,  0.00817092,  0.01135606,  0.01621777,  0.00488229],\n",
       "         [ 0.06406349, -0.03214667, -0.04467789, -0.06380519, -0.01920829]],\n",
       "        dtype=float32)>,\n",
       "  <tf.Tensor: shape=(5,), dtype=float32, numpy=\n",
       "  array([-0.41775408,  0.20962647,  0.29134178,  0.41606975,  0.12525609],\n",
       "        dtype=float32)>,\n",
       "  <tf.Tensor: shape=(5, 1), dtype=float32, numpy=\n",
       "  array([[ 0.08197732],\n",
       "         [-0.05654308],\n",
       "         [ 0.07179704],\n",
       "         [ 0.01230697],\n",
       "         [-0.07872924]], dtype=float32)>,\n",
       "  <tf.Tensor: shape=(1,), dtype=float32, numpy=array([0.46044296], dtype=float32)>],\n",
       " [<tf.Tensor: shape=(4, 5), dtype=float32, numpy=\n",
       "  array([[-0.01769951,  0.00731319,  0.01234364,  0.01762815,  0.00395797],\n",
       "         [-0.15320721,  0.06330308,  0.10684674,  0.1525895 ,  0.03426022],\n",
       "         [-0.01346841,  0.00556496,  0.00939287,  0.01341411,  0.00301181],\n",
       "         [ 0.16257757, -0.06717478, -0.11338162, -0.16192207, -0.03635563]],\n",
       "        dtype=float32)>,\n",
       "  <tf.Tensor: shape=(5,), dtype=float32, numpy=\n",
       "  array([-0.3750452 ,  0.15496343,  0.2615566 ,  0.37353307,  0.08386768],\n",
       "        dtype=float32)>,\n",
       "  <tf.Tensor: shape=(5, 1), dtype=float32, numpy=\n",
       "  array([[ 0.16074571],\n",
       "         [-0.11479247],\n",
       "         [ 0.10714365],\n",
       "         [ 0.04946872],\n",
       "         [-0.15778588]], dtype=float32)>,\n",
       "  <tf.Tensor: shape=(1,), dtype=float32, numpy=array([0.4133698], dtype=float32)>],\n",
       " [<tf.Tensor: shape=(4, 5), dtype=float32, numpy=\n",
       "  array([[-0.01883462,  0.00639593,  0.01313527,  0.01875869,  0.00313393],\n",
       "         [-0.20517544,  0.06967417,  0.1430894 ,  0.2043482 ,  0.03413951],\n",
       "         [-0.00926767,  0.00314715,  0.00646328,  0.00923031,  0.00154206],\n",
       "         [ 0.24312106, -0.08255987, -0.16955267, -0.24214081, -0.04045335]],\n",
       "        dtype=float32)>,\n",
       "  <tf.Tensor: shape=(5,), dtype=float32, numpy=\n",
       "  array([-0.34020197,  0.11552694,  0.23725693,  0.33883032,  0.05660682],\n",
       "        dtype=float32)>,\n",
       "  <tf.Tensor: shape=(5, 1), dtype=float32, numpy=\n",
       "  array([[ 0.22395387],\n",
       "         [-0.15237339],\n",
       "         [ 0.13470893],\n",
       "         [ 0.07954109],\n",
       "         [-0.20245868]], dtype=float32)>,\n",
       "  <tf.Tensor: shape=(1,), dtype=float32, numpy=array([0.37496606], dtype=float32)>],\n",
       " [<tf.Tensor: shape=(4, 5), dtype=float32, numpy=\n",
       "  array([[-0.02101359,  0.00585157,  0.01465489,  0.02092887,  0.00259194],\n",
       "         [-0.24865162,  0.06924103,  0.17340972,  0.2476491 ,  0.03067014],\n",
       "         [-0.00403565,  0.00112379,  0.00281446,  0.00401937,  0.00049778],\n",
       "         [ 0.31122932, -0.08666679, -0.21705142, -0.3099745 , -0.03838884]],\n",
       "        dtype=float32)>,\n",
       "  <tf.Tensor: shape=(5,), dtype=float32, numpy=\n",
       "  array([-0.3116586 ,  0.08678633,  0.21735078,  0.31040204,  0.03844179],\n",
       "        dtype=float32)>,\n",
       "  <tf.Tensor: shape=(5, 1), dtype=float32, numpy=\n",
       "  array([[ 0.27615207],\n",
       "         [-0.17628951],\n",
       "         [ 0.15660569],\n",
       "         [ 0.10484204],\n",
       "         [-0.2263559 ]], dtype=float32)>,\n",
       "  <tf.Tensor: shape=(1,), dtype=float32, numpy=array([0.34350595], dtype=float32)>],\n",
       " [<tf.Tensor: shape=(4, 5), dtype=float32, numpy=\n",
       "  array([[-2.4022069e-02,  5.4710899e-03,  1.6752996e-02,  2.3925213e-02,\n",
       "           2.1852311e-03],\n",
       "         [-2.8601745e-01,  6.5141231e-02,  1.9946863e-01,  2.8486428e-01,\n",
       "           2.6018336e-02],\n",
       "         [ 2.0234601e-03, -4.6084842e-04, -1.4111615e-03, -2.0153017e-03,\n",
       "          -1.8406942e-04],\n",
       "         [ 3.7084234e-01, -8.4460326e-02, -2.5862551e-01, -3.6934713e-01,\n",
       "          -3.3734657e-02]], dtype=float32)>,\n",
       "  <tf.Tensor: shape=(5,), dtype=float32, numpy=\n",
       "  array([-0.28809756,  0.06561498,  0.2009193 ,  0.28693599,  0.02620756],\n",
       "        dtype=float32)>,\n",
       "  <tf.Tensor: shape=(5, 1), dtype=float32, numpy=\n",
       "  array([[ 0.320551  ],\n",
       "         [-0.19111297],\n",
       "         [ 0.17429905],\n",
       "         [ 0.1270123 ],\n",
       "         [-0.23767063]], dtype=float32)>,\n",
       "  <tf.Tensor: shape=(1,), dtype=float32, numpy=array([0.31753728], dtype=float32)>],\n",
       " [<tf.Tensor: shape=(4, 5), dtype=float32, numpy=\n",
       "  array([[-0.02771597,  0.00514745,  0.01932912,  0.02760422,  0.00184746],\n",
       "         [-0.31893805,  0.05923358,  0.22242747,  0.31765214,  0.02125939],\n",
       "         [ 0.00879711, -0.00163381, -0.00613511, -0.00876164, -0.00058639],\n",
       "         [ 0.4247399 , -0.07888324, -0.29621372, -0.42302743, -0.02831181]],\n",
       "        dtype=float32)>,\n",
       "  <tf.Tensor: shape=(5,), dtype=float32, numpy=\n",
       "  array([-0.26846853,  0.04986032,  0.18723002,  0.2673861 ,  0.01789526],\n",
       "        dtype=float32)>,\n",
       "  <tf.Tensor: shape=(5, 1), dtype=float32, numpy=\n",
       "  array([[ 0.3593936 ],\n",
       "         [-0.19983357],\n",
       "         [ 0.18879177],\n",
       "         [ 0.14720653],\n",
       "         [-0.24136724]], dtype=float32)>,\n",
       "  <tf.Tensor: shape=(1,), dtype=float32, numpy=array([0.29590243], dtype=float32)>],\n",
       " [<tf.Tensor: shape=(4, 5), dtype=float32, numpy=\n",
       "  array([[-0.0319975 ,  0.00482983,  0.02231506,  0.03186849,  0.00155088],\n",
       "         [-0.34857577,  0.05261546,  0.2430968 ,  0.34717032,  0.01689507],\n",
       "         [ 0.01622825, -0.00244956, -0.01131758, -0.01616282, -0.00078656],\n",
       "         [ 0.4748848 , -0.07168107, -0.33118474, -0.4729701 , -0.02301712]],\n",
       "        dtype=float32)>,\n",
       "  <tf.Tensor: shape=(5,), dtype=float32, numpy=\n",
       "  array([-0.25195456,  0.03803106,  0.17571315,  0.25093868,  0.01221195],\n",
       "        dtype=float32)>,\n",
       "  <tf.Tensor: shape=(5, 1), dtype=float32, numpy=\n",
       "  array([[ 0.39424625],\n",
       "         [-0.20442422],\n",
       "         [ 0.20076784],\n",
       "         [ 0.16623871],\n",
       "         [-0.24048543]], dtype=float32)>,\n",
       "  <tf.Tensor: shape=(1,), dtype=float32, numpy=array([0.27770093], dtype=float32)>],\n",
       " [<tf.Tensor: shape=(4, 5), dtype=float32, numpy=\n",
       "  array([[-0.03679921,  0.0044981 ,  0.02566377,  0.03665084,  0.0012856 ],\n",
       "         [-0.37574342,  0.04592851,  0.26204354,  0.37422848,  0.01312675],\n",
       "         [ 0.02429352, -0.00296949, -0.0169423 , -0.02419557, -0.0008487 ],\n",
       "         [ 0.52266526, -0.06388731, -0.36450684, -0.52055794, -0.01825952]],\n",
       "        dtype=float32)>,\n",
       "  <tf.Tensor: shape=(5,), dtype=float32, numpy=\n",
       "  array([-0.23792562,  0.02908253,  0.16592938,  0.23696634,  0.00831203],\n",
       "        dtype=float32)>,\n",
       "  <tf.Tensor: shape=(5, 1), dtype=float32, numpy=\n",
       "  array([[ 0.42620492],\n",
       "         [-0.20620339],\n",
       "         [ 0.21069352],\n",
       "         [ 0.18468307],\n",
       "         [-0.23690782]], dtype=float32)>,\n",
       "  <tf.Tensor: shape=(1,), dtype=float32, numpy=array([0.26223844], dtype=float32)>],\n",
       " [<tf.Tensor: shape=(4, 5), dtype=float32, numpy=\n",
       "  array([[-0.04207361,  0.00414844,  0.02934215,  0.04190398,  0.00104922],\n",
       "         [-0.40101007,  0.03953943,  0.27966452,  0.39939326,  0.01000031],\n",
       "         [ 0.03299006, -0.00325281, -0.02300728, -0.03285705, -0.0008227 ],\n",
       "         [ 0.5690592 , -0.05610901, -0.39686203, -0.56676483, -0.01419109]],\n",
       "        dtype=float32)>,\n",
       "  <tf.Tensor: shape=(5,), dtype=float32, numpy=\n",
       "  array([-0.22589639,  0.02227329,  0.1575402 ,  0.22498561,  0.00563336],\n",
       "        dtype=float32)>,\n",
       "  <tf.Tensor: shape=(5, 1), dtype=float32, numpy=\n",
       "  array([[ 0.45603484],\n",
       "         [-0.2060647 ],\n",
       "         [ 0.21888666],\n",
       "         [ 0.20294061],\n",
       "         [-0.2318125 ]], dtype=float32)>,\n",
       "  <tf.Tensor: shape=(1,), dtype=float32, numpy=array([0.24897999], dtype=float32)>],\n",
       " [<tf.Tensor: shape=(4, 5), dtype=float32, numpy=\n",
       "  array([[-0.04778635,  0.00378528,  0.03332621,  0.04759368,  0.00084189],\n",
       "         [-0.42477074,  0.03364716,  0.29623523,  0.42305815,  0.00748353],\n",
       "         [ 0.04232738, -0.00335286, -0.02951912, -0.04215672, -0.00074572],\n",
       "         [ 0.6147403 , -0.04869513, -0.42872006, -0.6122618 , -0.01083037]],\n",
       "        dtype=float32)>,\n",
       "  <tf.Tensor: shape=(5,), dtype=float32, numpy=\n",
       "  array([-0.21549095,  0.01706958,  0.15028344,  0.21462213,  0.00379648],\n",
       "        dtype=float32)>,\n",
       "  <tf.Tensor: shape=(5, 1), dtype=float32, numpy=\n",
       "  array([[ 0.48426193],\n",
       "         [-0.20462225],\n",
       "         [ 0.2255622 ],\n",
       "         [ 0.22128135],\n",
       "         [-0.22594161]], dtype=float32)>,\n",
       "  <tf.Tensor: shape=(1,), dtype=float32, numpy=array([0.23751125], dtype=float32)>]]"
      ]
     },
     "execution_count": 105,
     "metadata": {},
     "output_type": "execute_result"
    }
   ],
   "source": [
    "print(len(all_grads[0]))\n",
    "all_grads[0]"
   ]
  },
  {
   "cell_type": "markdown",
   "id": "256ff327-1cc4-404e-a3bb-1c1968b4df7a",
   "metadata": {},
   "source": [
    "### Discounted Rewards (Action Return and Action Advantage)"
   ]
  },
  {
   "cell_type": "markdown",
   "id": "ee013e50-ee1e-4994-9a43-0fb85b3cbd6b",
   "metadata": {},
   "source": [
    "![NN](./images/CreditAssignment.png)"
   ]
  },
  {
   "cell_type": "code",
   "execution_count": 112,
   "id": "dfd97004-7035-4236-8049-21256a0e1716",
   "metadata": {},
   "outputs": [],
   "source": [
    "#Action Return\n",
    "def discount_rewards(rewards, discount_factor):\n",
    "    discounted = np.array(rewards)\n",
    "    for step in range(len(rewards) - 2, -1, -1):\n",
    "        discounted[step] += discounted[step + 1] * discount_factor\n",
    "    return discounted\n",
    "\n",
    "#Action Advantage\n",
    "def discount_and_normalize_rewards(all_rewards, discount_factor):\n",
    "    all_discounted_rewards = [discount_rewards(rewards, discount_factor) for rewards in all_rewards]\n",
    "    flat_rewards = np.concatenate(all_discounted_rewards)\n",
    "    reward_mean = flat_rewards.mean()\n",
    "    reward_std = flat_rewards.std()\n",
    "    return [(discounted_rewards - reward_mean)/reward_std for discounted_rewards in all_discounted_rewards]\n",
    "    \n",
    "                    "
   ]
  },
  {
   "cell_type": "code",
   "execution_count": 115,
   "id": "cd46dfc9-c135-4cbe-8c11-ae339b7cb881",
   "metadata": {},
   "outputs": [
    {
     "name": "stdout",
     "output_type": "stream",
     "text": [
      "0 17\n",
      "1 16\n",
      "2 15\n",
      "3 14\n",
      "4 13\n",
      "5 12\n",
      "6 11\n",
      "7 10\n",
      "8 9\n",
      "9 8\n",
      "10 7\n",
      "11 6\n",
      "12 5\n",
      "13 4\n",
      "14 3\n",
      "15 2\n",
      "16 1\n",
      "17 0\n"
     ]
    }
   ],
   "source": [
    "for index,step in enumerate(range(len(all_rewards[0]) - 2, -1, -1)):\n",
    "    print(index,step)"
   ]
  },
  {
   "cell_type": "code",
   "execution_count": 116,
   "id": "79092c32-77da-45c6-aaf4-1f546e59a472",
   "metadata": {},
   "outputs": [
    {
     "data": {
      "text/plain": [
       "array([12.45292795, 12.05571363, 11.6375933 , 11.19746663, 10.7341754 ,\n",
       "       10.24650042,  9.73315833,  9.19279825,  8.62399815,  8.02526122,\n",
       "        7.39501181,  6.73159137,  6.03325408,  5.29816219,  4.52438125,\n",
       "        3.709875  ,  2.8525    ,  1.95      ,  1.        ])"
      ]
     },
     "execution_count": 116,
     "metadata": {},
     "output_type": "execute_result"
    }
   ],
   "source": [
    "discount_rewards(all_rewards[0],0.95)"
   ]
  },
  {
   "cell_type": "code",
   "execution_count": 118,
   "id": "0d08105f-3721-4d3a-8b24-b0c29bd9e98d",
   "metadata": {},
   "outputs": [
    {
     "data": {
      "text/plain": [
       "[array([ 1.58228181,  1.46351027,  1.33848759,  1.20688477,  1.06835549,\n",
       "         0.92253519,  0.76904014,  0.6074664 ,  0.43738879,  0.25835971,\n",
       "         0.06990806, -0.1284621 , -0.3372728 , -0.55707353, -0.78844273,\n",
       "        -1.03198925, -1.28835401, -1.55821165, -1.84227232]),\n",
       " array([ 1.20688477,  1.06835549,  0.92253519,  0.76904014,  0.6074664 ,\n",
       "         0.43738879,  0.25835971,  0.06990806, -0.1284621 , -0.3372728 ,\n",
       "        -0.55707353, -0.78844273, -1.03198925, -1.28835401, -1.55821165,\n",
       "        -1.84227232])]"
      ]
     },
     "execution_count": 118,
     "metadata": {},
     "output_type": "execute_result"
    }
   ],
   "source": [
    "discount_and_normalize_rewards(all_rewards,0.95)"
   ]
  },
  {
   "cell_type": "code",
   "execution_count": 20,
   "id": "87616fae-6eaa-4d42-a0ef-6c5d6f5acfd7",
   "metadata": {},
   "outputs": [
    {
     "data": {
      "text/plain": [
       "array([-22, -40, -50])"
      ]
     },
     "execution_count": 20,
     "metadata": {},
     "output_type": "execute_result"
    }
   ],
   "source": [
    "discount_rewards([10,0,-50],discount_factor=0.8)"
   ]
  },
  {
   "cell_type": "code",
   "execution_count": 21,
   "id": "d67f675a-5caf-4086-9caa-fdf3057195b9",
   "metadata": {},
   "outputs": [
    {
     "data": {
      "text/plain": [
       "[array([-0.28435071, -0.86597718, -1.18910299]),\n",
       " array([1.26665318, 1.0727777 ])]"
      ]
     },
     "execution_count": 21,
     "metadata": {},
     "output_type": "execute_result"
    }
   ],
   "source": [
    "discount_and_normalize_rewards([[10,0,-50],[10,20]],0.8)"
   ]
  },
  {
   "cell_type": "markdown",
   "id": "3b109185-bfaf-4975-bc80-ccee3e2bb2f1",
   "metadata": {},
   "source": [
    "### Training the Neural Network Model with Policy Gradient"
   ]
  },
  {
   "cell_type": "code",
   "execution_count": 85,
   "id": "b02a4e20-e104-4d0a-be86-3d90658f4f33",
   "metadata": {},
   "outputs": [],
   "source": [
    "n_iterations = 150\n",
    "n_episodes_per_update = 10\n",
    "n_max_steps = 500\n",
    "discount_factor = 0.95"
   ]
  },
  {
   "cell_type": "code",
   "execution_count": 90,
   "id": "07ea4158-f2b0-4a9d-822f-ea6711854e65",
   "metadata": {},
   "outputs": [],
   "source": [
    "optimizer = keras.optimizers.Adam(0.01)\n",
    "loss_fn = keras.losses.binary_crossentropy\n",
    "obs = env.reset()"
   ]
  },
  {
   "cell_type": "code",
   "execution_count": 91,
   "id": "40e630be-4dd5-4bb6-8e8e-c442400a7db1",
   "metadata": {},
   "outputs": [
    {
     "data": {
      "text/plain": [
       "array([[-0.01779805, -0.04352461,  0.04807696, -0.04226135]],\n",
       "      dtype=float32)"
      ]
     },
     "execution_count": 91,
     "metadata": {},
     "output_type": "execute_result"
    }
   ],
   "source": [
    "obs[0][np.newaxis]"
   ]
  },
  {
   "cell_type": "code",
   "execution_count": 92,
   "id": "2573d3d8-dd05-4a87-a2af-4932f433f059",
   "metadata": {
    "scrolled": true
   },
   "outputs": [],
   "source": [
    "for iteration in range(n_iterations):\n",
    "    all_rewards, all_grads = play_multiple_episodes(\n",
    "                env, n_episodes_per_update, n_max_steps, model, loss_fn)\n",
    "    all_final_rewards = discount_and_normalize_rewards(all_rewards,\n",
    "                                                               discount_factor)\n",
    "    all_mean_grads = []\n",
    "    for var_index in range(len(model.trainable_variables)):\n",
    "                mean_grads = tf.reduce_mean(\n",
    "                    [final_reward * all_grads[episode_index][step][var_index]\n",
    "                        for episode_index, final_rewards in enumerate(all_final_rewards) for step, final_reward in enumerate(final_rewards)], axis=0)\n",
    "                all_mean_grads.append(mean_grads)\n",
    "    optimizer.apply_gradients(zip(all_mean_grads, model.trainable_variables)) #Adjust trainable  variables such that the action with higher advantage\n",
    "    #becomes more likely\n"
   ]
  },
  {
   "cell_type": "code",
   "execution_count": 120,
   "id": "78dfe07d-b9ae-4065-9c80-84061773a77e",
   "metadata": {},
   "outputs": [
    {
     "data": {
      "text/plain": [
       "4"
      ]
     },
     "execution_count": 120,
     "metadata": {},
     "output_type": "execute_result"
    }
   ],
   "source": [
    "len(model.trainable_variables)"
   ]
  },
  {
   "cell_type": "code",
   "execution_count": 59,
   "id": "740c4847-2dda-4699-a20f-945f510ddcd2",
   "metadata": {},
   "outputs": [
    {
     "data": {
      "text/plain": [
       "0.10835950103632878"
      ]
     },
     "execution_count": 59,
     "metadata": {},
     "output_type": "execute_result"
    }
   ],
   "source": [
    "np.mean(all_final_rewards[0])"
   ]
  },
  {
   "cell_type": "code",
   "execution_count": 48,
   "id": "59028c5a-10b1-40c1-ad8d-ab6aba62d0dc",
   "metadata": {},
   "outputs": [
    {
     "data": {
      "text/plain": [
       "array([ 0.03568713,  0.01827965, -0.00327339, -0.03763362], dtype=float32)"
      ]
     },
     "execution_count": 48,
     "metadata": {},
     "output_type": "execute_result"
    }
   ],
   "source": [
    "env.reset()[0]"
   ]
  },
  {
   "cell_type": "code",
   "execution_count": 62,
   "id": "0e22f680-a8b1-481f-8736-826b39c13881",
   "metadata": {},
   "outputs": [
    {
     "data": {
      "text/plain": [
       "array([-0.04675896,  0.03011083, -0.0117334 ,  0.03751784], dtype=float32)"
      ]
     },
     "execution_count": 62,
     "metadata": {},
     "output_type": "execute_result"
    }
   ],
   "source": [
    "obs=env.reset()[0]\n",
    "obs"
   ]
  },
  {
   "cell_type": "markdown",
   "id": "0d09e615-a3a2-4712-80b5-6c071084a112",
   "metadata": {},
   "source": [
    "## Test the model"
   ]
  },
  {
   "cell_type": "code",
   "execution_count": 12,
   "id": "bd1603a1-7742-4905-bb4c-abd65585927f",
   "metadata": {},
   "outputs": [
    {
     "name": "stderr",
     "output_type": "stream",
     "text": [
      "/var/folders/xy/v3t4nml95wb5pr6j598hpzq00000gn/T/ipykernel_86662/114696985.py:9: DeprecationWarning: Conversion of an array with ndim > 0 to a scalar is deprecated, and will error in future. Ensure you extract a single element from your array before performing this operation. (Deprecated NumPy 1.25.)\n",
      "  action = int(np.random.rand() > left_proba)\n"
     ]
    },
    {
     "name": "stdout",
     "output_type": "stream",
     "text": [
      "[ 2.4187033e+00  1.4947851e+00 -1.8951163e-03 -3.6807171e-01]\n",
      "Steps: 491\n"
     ]
    }
   ],
   "source": [
    "#see the model in action\n",
    "env = gym.make(\"CartPole-v1\",render_mode=\"human\")\n",
    "totals = []\n",
    "episode_rewards = 0\n",
    "obs = env.reset()[0]\n",
    "for step in range(500):\n",
    "    #print(f\"Step Num: {step}\")\n",
    "    left_proba = model.predict(obs.reshape(1,-1),verbose=0)\n",
    "    action = int(np.random.rand() > left_proba)\n",
    "    obs, reward, done, state, info = env.step(action)\n",
    "    env.render()\n",
    "    episode_rewards += reward\n",
    "    if done:\n",
    "        print(obs)\n",
    "        break\n",
    "totals.append(episode_rewards)\n",
    "print(f\"Steps: {step}\")"
   ]
  },
  {
   "cell_type": "markdown",
   "id": "1efa1e1f-cfa9-4903-becd-95f1adb7d088",
   "metadata": {},
   "source": [
    "### Save and Load Model"
   ]
  },
  {
   "cell_type": "code",
   "execution_count": 97,
   "id": "ec552468-0809-4aeb-815d-2b095d84dd7e",
   "metadata": {},
   "outputs": [],
   "source": [
    "# Save the entire model as a `.keras` zip archive.\n",
    "model.save('cartpole_500.keras')"
   ]
  },
  {
   "cell_type": "code",
   "execution_count": 2,
   "id": "45c1b86c-5d2a-419b-866b-bfac2990e358",
   "metadata": {},
   "outputs": [],
   "source": [
    "model = tf.keras.models.load_model('cartpole_500.keras')"
   ]
  },
  {
   "cell_type": "code",
   "execution_count": null,
   "id": "99b384b8-ef31-4e5e-8076-e3ee3ed98914",
   "metadata": {},
   "outputs": [],
   "source": []
  }
 ],
 "metadata": {
  "kernelspec": {
   "display_name": "Python 3 (ipykernel)",
   "language": "python",
   "name": "python3"
  },
  "language_info": {
   "codemirror_mode": {
    "name": "ipython",
    "version": 3
   },
   "file_extension": ".py",
   "mimetype": "text/x-python",
   "name": "python",
   "nbconvert_exporter": "python",
   "pygments_lexer": "ipython3",
   "version": "3.12.4"
  }
 },
 "nbformat": 4,
 "nbformat_minor": 5
}
