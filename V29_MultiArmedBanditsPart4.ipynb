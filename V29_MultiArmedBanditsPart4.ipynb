{
 "cells": [
  {
   "cell_type": "markdown",
   "id": "8216ae09-c831-4ccf-be53-170d246ad01c",
   "metadata": {},
   "source": [
    "# Multi-Armed Bandits Part-4"
   ]
  },
  {
   "cell_type": "markdown",
   "id": "7e122238-35b8-4d4c-9099-9b6fe1b988aa",
   "metadata": {},
   "source": [
    "**Youtube Video:-**\n"
   ]
  },
  {
   "cell_type": "markdown",
   "id": "4f9ccec2-cf44-4ab7-88c9-ac0603ea9344",
   "metadata": {},
   "source": [
    "## Key TakeAways"
   ]
  },
  {
   "cell_type": "markdown",
   "id": "d73cbedb-648c-450f-9f64-c2afab6e6d2f",
   "metadata": {},
   "source": [
    "1. What is Upper Confidence Bound Method\n",
    "3. How to implement Upper Confidence Bound (UCB) Algorithm\n",
    "4. Comparison with Epsilon-Greedy Method"
   ]
  },
  {
   "cell_type": "markdown",
   "id": "abba3688-a0cc-4918-9ca3-b2ad994b9cca",
   "metadata": {},
   "source": [
    "## Upper Confidence Bound"
   ]
  },
  {
   "cell_type": "markdown",
   "id": "9b9ffa79-198b-41ad-8eb5-19be98498f97",
   "metadata": {},
   "source": [
    "- There is always uncertainty about the accuracy in the action-value estimates\n",
    "- Hence exploration is needed\n",
    "- Epsilon-greedy action selection forces non-greedy action to be tried but it does so indiscriminately, with no preference for those that are nearly greedy or particularly uncertain"
   ]
  },
  {
   "cell_type": "markdown",
   "id": "8a1aab08-c679-4af1-a1bf-d39226bdaeab",
   "metadata": {},
   "source": [
    "- It would be better to select non-greedy action according to their potential for actually being optimal\n",
    "- This means taking into account\n",
    "  - how close their estimates are to maximum value\n",
    "  - and uncertainties in those estimates"
   ]
  },
  {
   "cell_type": "markdown",
   "id": "e80d692a-298e-49dc-871e-7d170824eb0b",
   "metadata": {},
   "source": [
    "**One effective way of doing  this is to select actions according to below equation**"
   ]
  },
  {
   "cell_type": "markdown",
   "id": "61cf9593-7e00-4bf4-8a6f-0e56acd5f12a",
   "metadata": {},
   "source": [
    "<img src=\"images/UCBEquation.png\" alt=\"UCB Eq\" style=\"width: 300px;\"/>"
   ]
  },
  {
   "cell_type": "markdown",
   "id": "904ffbf7-ef39-4879-9a9f-c92f6e8505d0",
   "metadata": {},
   "source": [
    "- ln _t_ denotes the natural logarithm of t (the number that e=2.71828, (euler's number) would have to be raised to be equal to t)\n",
    "- Nt(a) denotes the number of times that action a has been selected prior to time t\n",
    "- the number c>0 controls the degree of exploration\n",
    "- if Nt(a)=0 then as is considered to be a maximizing action"
   ]
  },
  {
   "cell_type": "markdown",
   "id": "008a3744-c75a-4a92-b548-abc22ca4b5e1",
   "metadata": {},
   "source": [
    "- The square root term is a measure of uncertainty or variance in the estimate a's action-value\n",
    "- The quantity inside the square bracket is thus the upper bound on the possible true value of action a, with c determining the confidence level\n",
    "- Each time a is selected Nt(a) goes up and the uncertainty is reduced\n",
    "- However each time an action other than a is selected, t increases but the Nt(a) does not, that increases the uncertainty\n",
    "- The use of natural logarithm means that the increases get smaller over time but are unbounded\n",
    "- All actions will eventually be selected but actions with lower value estmates, or that have already been selected frequently, will be selected with decreasing frequency over time"
   ]
  },
  {
   "cell_type": "markdown",
   "id": "3e46d5ab-8ce7-4b7b-90e4-2b79081c85f7",
   "metadata": {},
   "source": [
    "- **Upside** UCB performs better than epsilon greedy\n",
    "- **Downside**  It is more difficult than epsilon-greedy to extend beyond Bandit problems\n",
    "  - One difficulty would be to deal with non-stationary rewards\n",
    "  - Another is dealing with large state spaces\n"
   ]
  },
  {
   "cell_type": "markdown",
   "id": "422a2bc0-2425-4631-aef7-f3c3f57dffbe",
   "metadata": {},
   "source": [
    "## Implementation - Upper Confidence Bound (UCB) method vs Epsilon Greedy method"
   ]
  },
  {
   "cell_type": "code",
   "execution_count": 1,
   "id": "8b3d7f0e-be60-4f25-83ed-b9f41a73e35d",
   "metadata": {},
   "outputs": [],
   "source": [
    "import numpy as np\n",
    "import matplotlib.pyplot as plt\n",
    "import math\n",
    "\n",
    "\n",
    "def add_random_walk():\n",
    "    #sample_walk = np.random.normal(0,0.01)\n",
    "    global q_star_a \n",
    "    q_star_a = [x + np.random.normal(0,0.01) for x in q_star_a]\n",
    "    \n",
    "\n",
    "def max_index(q_a):\n",
    "    #break ties randomly\n",
    "    q_a = np.array(q_a)\n",
    "    return np.random.choice(np.where(q_a == q_a.max())[0])\n",
    "\n",
    "def max_index_ucb(q_a,t,n_a,c):\n",
    "    ucb_q_a = np.array(q_a)\n",
    "        \n",
    "    for i in range(len(q_a)):\n",
    "        if n_a[i]!=0:\n",
    "            ucb_q_a[i] += c*math.sqrt(math.log(t)/n_a[i])\n",
    "    return np.random.choice(np.where(ucb_q_a == ucb_q_a.max())[0])\n",
    "      \n",
    "\n",
    "def bandit(a):\n",
    "    #each reward for the action will come fromthe prob distribution of that action\n",
    "    #which has a mean of q*(a) and variance of 1\n",
    "    #add_random_walk()\n",
    "    reward = np.random.normal(q_star_a[a],1) \n",
    "    return reward\n",
    "    \n",
    "def one_run(eps,k,steps,constant_step_size=False,alpha=1.0,q_a_init=None,c=0):\n",
    "    q_a = q_a_init\n",
    "    n_a = [0]*k\n",
    "    n_a_steps = []\n",
    "    q_a_steps = []\n",
    "    r_steps =[]\n",
    "    a_steps =[]\n",
    "    optimal_action_count = []\n",
    "  \n",
    "    for step in range(steps):\n",
    "        if c>0:\n",
    "            a = max_index_ucb(q_a,step+1,n_a,c)\n",
    "        else:    \n",
    "            if np.random.random() < eps:\n",
    "                a = np.random.choice(range(k))\n",
    "            else:\n",
    "                a = max_index(q_a)\n",
    "        \n",
    "        r = bandit(a)\n",
    "    \n",
    "        if a == np.argmax(q_star_a) :\n",
    "            optimal_action_count.append(1)\n",
    "        else:\n",
    "            optimal_action_count.append(0)\n",
    "            \n",
    "        a_steps.append(a)\n",
    "        \n",
    "        if constant_step_size:\n",
    "            alpha = alpha\n",
    "        else:\n",
    "            n_a[a] += 1\n",
    "            alpha = 1/n_a[a]\n",
    "        q_a[a] = q_a[a] + (alpha) * (r - q_a[a])\n",
    "       \n",
    "        n_a_steps.append(n_a.copy())\n",
    "        q_a_steps.append(q_a.copy())\n",
    "        r_steps.append(r)\n",
    "    \n",
    "    return q_star_a, n_a_steps, q_a_steps, r_steps, a_steps, optimal_action_count\n",
    "\n",
    "\n"
   ]
  },
  {
   "cell_type": "code",
   "execution_count": 2,
   "id": "e0979739-258b-4b43-9009-c32c79f68731",
   "metadata": {},
   "outputs": [],
   "source": [
    "def run_bandit(n_runs=2000,n_steps=1000,eps=0.01,constant_step_size=False,alpha=1.0,initial=0.0,c=0):\n",
    "    n_a_runs = []\n",
    "    q_a_runs = []\n",
    "    r_a_runs = []\n",
    "    o_a_runs = []\n",
    "    \n",
    "    for run in range(n_runs):\n",
    "        q_a_init = [initial]*10 \n",
    "        q_star_a,n_a,q_a,r_a,a_steps,optimal_action = one_run(eps,k=10,steps=n_steps,constant_step_size=constant_step_size,alpha=alpha,q_a_init=q_a_init,c=c)\n",
    "            \n",
    "        n_a_runs.append(n_a.copy())\n",
    "        q_a_runs.append(q_a.copy())\n",
    "        r_a_runs.append(r_a.copy())\n",
    "        o_a_runs.append(optimal_action.copy())\n",
    "    \n",
    "    r_values= np.array(r_a_runs)\n",
    "    avg_rewards = r_values.mean(axis=0)\n",
    "\n",
    "    o_values= np.array(o_a_runs)\n",
    "    optimal_action_perc = o_values.mean(axis=0)\n",
    "    return avg_rewards,optimal_action_perc"
   ]
  },
  {
   "cell_type": "code",
   "execution_count": 9,
   "id": "7f39bd60-45e5-405d-9e6d-721d67ccd495",
   "metadata": {},
   "outputs": [
    {
     "data": {
      "text/plain": [
       "<matplotlib.legend.Legend at 0x349478b90>"
      ]
     },
     "execution_count": 9,
     "metadata": {},
     "output_type": "execute_result"
    },
    {
     "data": {
      "image/png": "[encoded data removed]",
      "text/plain": [
       "<Figure size 640x480 with 1 Axes>"
      ]
     },
     "metadata": {},
     "output_type": "display_data"
    }
   ],
   "source": [
    "k=10\n",
    "#Initialize true value for each action\n",
    "q_star_a = np.random.normal(0,1,k)\n",
    "\n",
    "n_steps=1000\n",
    "alpha=0.1\n",
    "constant_step_size=True\n",
    "eps=0.1\n",
    "\n",
    "\n",
    "initial=0.0\n",
    "c=0.0\n",
    "rewards,optimal_action_perc = run_bandit(n_steps=n_steps,eps=eps,constant_step_size=constant_step_size,alpha=alpha,initial=initial,c=c)\n",
    "plt.plot(rewards,label=f'Epsilon Greedy, epsilon={eps}');\n",
    "plt.legend()\n",
    "\n",
    "#Assign optimistic values of 5 to initial estimates\n",
    "\n",
    "eps=0.0\n",
    "initial=0.0\n",
    "c=2\n",
    "rewards,optimal_action_perc = run_bandit(n_steps=n_steps,eps=eps,constant_step_size=constant_step_size,alpha=alpha,initial=initial,c=c)\n",
    "plt.plot(rewards,label=f'UCB, c=2');\n",
    "plt.xlabel('Steps')\n",
    "plt.ylabel('%Average Rewards')\n",
    "plt.legend()"
   ]
  },
  {
   "cell_type": "code",
   "execution_count": 4,
   "id": "f8bf3e34-7234-4b95-b527-c7c4ed14a758",
   "metadata": {},
   "outputs": [
    {
     "data": {
      "text/plain": [
       "array([ 1.33546741, -0.39100966, -0.29920367, -0.34096575, -0.61489367,\n",
       "        0.93419343,  0.64383971,  0.94863976, -0.42500258, -0.986735  ])"
      ]
     },
     "execution_count": 4,
     "metadata": {},
     "output_type": "execute_result"
    }
   ],
   "source": [
    "q_star_a"
   ]
  },
  {
   "cell_type": "markdown",
   "id": "69401c72-38e7-4ea9-aa74-8607faeee428",
   "metadata": {},
   "source": [
    "## Conlcusion"
   ]
  },
  {
   "cell_type": "markdown",
   "id": "ca583a33-4ea4-406e-95b1-549949119350",
   "metadata": {},
   "source": [
    "In this video we covered the Upper confidency bound method to improve the action selection method and improve the agent's learning progress over time"
   ]
  },
  {
   "cell_type": "markdown",
   "id": "02d48351-9ba8-4248-b511-88989fd37ed7",
   "metadata": {},
   "source": [
    "In the upcoming videos we will continue our journey in the Multi-Armed Bandits and learn about\n",
    "- Gradient Bandit Algorithms\n",
    "- Contextual bandits\n",
    "- Finally a comparison of all the Bandit algorithms and decide which one is best\n",
    "  "
   ]
  },
  {
   "cell_type": "code",
   "execution_count": null,
   "id": "a37932c2-6b0f-4351-9906-695d19b043b4",
   "metadata": {},
   "outputs": [],
   "source": []
  }
 ],
 "metadata": {
  "kernelspec": {
   "display_name": "Python 3 (ipykernel)",
   "language": "python",
   "name": "python3"
  },
  "language_info": {
   "codemirror_mode": {
    "name": "ipython",
    "version": 3
   },
   "file_extension": ".py",
   "mimetype": "text/x-python",
   "name": "python",
   "nbconvert_exporter": "python",
   "pygments_lexer": "ipython3",
   "version": "3.12.4"
  }
 },
 "nbformat": 4,
 "nbformat_minor": 5
}
