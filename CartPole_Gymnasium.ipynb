{
 "cells": [
  {
   "cell_type": "markdown",
   "id": "7eaa538b-3070-48fc-b747-834c17823bff",
   "metadata": {},
   "source": [
    "# Introduction to Cart Pole Problem/env"
   ]
  },
  {
   "cell_type": "markdown",
   "id": "4060e6a4-3c69-443c-89fa-f24927a18a38",
   "metadata": {},
   "source": [
    "### Dependencies"
   ]
  },
  {
   "cell_type": "code",
   "execution_count": 2,
   "id": "42db7e9a-30f9-4ee7-8251-1efbc790e356",
   "metadata": {},
   "outputs": [],
   "source": [
    "import gymnasium as gym"
   ]
  },
  {
   "cell_type": "code",
   "execution_count": 3,
   "id": "c62d9fde-61aa-4509-9fe6-8bc77ec36301",
   "metadata": {},
   "outputs": [],
   "source": [
    "env = gym.make('CartPole-v1',render_mode=\"human\")"
   ]
  },
  {
   "cell_type": "markdown",
   "id": "d43799f1-099a-450a-8f86-fddbb81a991c",
   "metadata": {},
   "source": [
    "![title](images/CartPole.png)"
   ]
  },
  {
   "cell_type": "code",
   "execution_count": 6,
   "id": "8f269347-573d-462e-9c12-20ef9a1ef05a",
   "metadata": {},
   "outputs": [
    {
     "data": {
      "text/plain": [
       "(array([-0.02881987, -0.01002407,  0.02031628, -0.0449642 ], dtype=float32),\n",
       " {})"
      ]
     },
     "execution_count": 6,
     "metadata": {},
     "output_type": "execute_result"
    }
   ],
   "source": [
    "env.reset()"
   ]
  },
  {
   "cell_type": "code",
   "execution_count": 16,
   "id": "3da024dd-92d5-45a4-b5fe-a4b1052b1040",
   "metadata": {},
   "outputs": [
    {
     "data": {
      "text/plain": [
       "(array([-0.12894322, -0.4109334 ,  0.17053409,  0.78604597], dtype=float32),\n",
       " 1.0,\n",
       " False,\n",
       " False,\n",
       " {})"
      ]
     },
     "execution_count": 16,
     "metadata": {},
     "output_type": "execute_result"
    }
   ],
   "source": [
    "env.step(0)"
   ]
  },
  {
   "cell_type": "markdown",
   "id": "2fd62892-6a76-4157-b3ae-b85d362c6a5e",
   "metadata": {},
   "source": [
    "![title](images/observationSpace.png)"
   ]
  },
  {
   "cell_type": "markdown",
   "id": "9415e8f3-4566-4334-ba32-0eb3ccb705d4",
   "metadata": {},
   "source": [
    "### Episode End:- \n",
    "The episode ends if any one of the following occurs:\n",
    "1. Termination: Pole Angle is greater than ±12°\n",
    "2. Termination: Cart Position is greater than ±2.4 (center of the cart reaches the edge of the display)\n",
    "3. Truncation: Episode length is greater than 500 (200 for v0)"
   ]
  },
  {
   "cell_type": "code",
   "execution_count": 85,
   "id": "4571a4c6-97c0-407b-a9ed-12cb5727f6a4",
   "metadata": {},
   "outputs": [],
   "source": [
    "action = 0 #left\n",
    "action = 1 #right\n",
    "observation, reward, terminated, truncated, info = env.step(action)"
   ]
  },
  {
   "cell_type": "code",
   "execution_count": 86,
   "id": "3036430e-6814-46b5-ad7d-4bf40d4a6383",
   "metadata": {},
   "outputs": [
    {
     "data": {
      "text/plain": [
       "array([-1.2891004, -4.247897 ,  2.3218572,  9.060686 ], dtype=float32)"
      ]
     },
     "execution_count": 86,
     "metadata": {},
     "output_type": "execute_result"
    }
   ],
   "source": [
    "#object contains the observation space.\n",
    "#cart position\n",
    "#cart velocity\n",
    "#pole angle\n",
    "#pole angular velocity\n",
    "observation"
   ]
  },
  {
   "cell_type": "code",
   "execution_count": 88,
   "id": "130ad3cf-86eb-40cf-a7c7-917316a9ce8f",
   "metadata": {},
   "outputs": [
    {
     "data": {
      "text/plain": [
       "0.0"
      ]
     },
     "execution_count": 88,
     "metadata": {},
     "output_type": "execute_result"
    }
   ],
   "source": [
    "#if the pole is still balanced and truncated or terminated is not True\n",
    "#reward of 1.0 is returned else it is zero\n",
    "reward"
   ]
  },
  {
   "cell_type": "code",
   "execution_count": 89,
   "id": "254ee5dc-3f89-4de7-8e30-a081cc385b7e",
   "metadata": {},
   "outputs": [
    {
     "data": {
      "text/plain": [
       "True"
      ]
     },
     "execution_count": 89,
     "metadata": {},
     "output_type": "execute_result"
    }
   ],
   "source": [
    "#if the agent crashes or succeeds in completing a task, env is terminated\n",
    "terminated"
   ]
  },
  {
   "cell_type": "code",
   "execution_count": 90,
   "id": "76c43e70-e8d7-4fb5-bd88-b22d8ac08b7e",
   "metadata": {},
   "outputs": [
    {
     "data": {
      "text/plain": [
       "False"
      ]
     },
     "execution_count": 90,
     "metadata": {},
     "output_type": "execute_result"
    }
   ],
   "source": [
    "#if the environment reaches its end state (fixed number of timesteps)\n",
    "truncated"
   ]
  },
  {
   "cell_type": "markdown",
   "id": "02e1badf-1ddc-4a10-b7a8-c16e2a26ace5",
   "metadata": {},
   "source": [
    "![title](images/EnvInteraction.png)"
   ]
  },
  {
   "cell_type": "markdown",
   "id": "b47e153e-c8c6-4ca5-9400-2c0520649917",
   "metadata": {},
   "source": [
    "### Basic Policy"
   ]
  },
  {
   "cell_type": "code",
   "execution_count": 17,
   "id": "377e1b42-1f22-42c4-98b6-57fab65b94b1",
   "metadata": {
    "scrolled": true
   },
   "outputs": [
    {
     "name": "stdout",
     "output_type": "stream",
     "text": [
      "Game:0\n",
      "Steps: 51\n",
      "Game:1\n",
      "Steps: 56\n",
      "Game:2\n",
      "Steps: 39\n",
      "Game:3\n",
      "Steps: 61\n",
      "Game:4\n",
      "Steps: 24\n"
     ]
    }
   ],
   "source": [
    "#move left if pole is tilted towards left \n",
    "#or else move to right if pole is tilted towards right\n",
    "def basic_policy(obs):\n",
    "    angle = obs[2]\n",
    "    return 0 if angle < 0 else 1\n",
    "    \n",
    "env = gym.make(\"CartPole-v1\",render_mode=\"human\")\n",
    "totals = []\n",
    "with env:\n",
    "    for episode in range(5):\n",
    "        print(f\"Game:{episode}\")\n",
    "        episode_rewards = 0\n",
    "        obs = env.reset()[0]\n",
    "        for step in range(200):\n",
    "            #print(f\"Step Num: {step}\")\n",
    "            action = basic_policy(obs)\n",
    "            obs, reward, done, state, info = env.step(action)\n",
    "            env.render()\n",
    "            episode_rewards += reward\n",
    "            if done:\n",
    "                break\n",
    "        totals.append(episode_rewards)\n",
    "        print(f\"Steps: {step}\")\n",
    "    env.close()"
   ]
  },
  {
   "cell_type": "code",
   "execution_count": 18,
   "id": "afed46a8-2234-4afa-a6a2-dc2e696bd76c",
   "metadata": {},
   "outputs": [
    {
     "data": {
      "text/plain": [
       "(47.2, 13.287588193498472, 25.0, 62.0)"
      ]
     },
     "execution_count": 18,
     "metadata": {},
     "output_type": "execute_result"
    }
   ],
   "source": [
    "import numpy as np\n",
    "np.mean(totals), np.std(totals), np.min(totals), np.max(totals)"
   ]
  },
  {
   "cell_type": "code",
   "execution_count": null,
   "id": "c5f649af-f491-405d-9547-9cd76c8dc5df",
   "metadata": {},
   "outputs": [],
   "source": []
  }
 ],
 "metadata": {
  "kernelspec": {
   "display_name": "Python 3 (ipykernel)",
   "language": "python",
   "name": "python3"
  },
  "language_info": {
   "codemirror_mode": {
    "name": "ipython",
    "version": 3
   },
   "file_extension": ".py",
   "mimetype": "text/x-python",
   "name": "python",
   "nbconvert_exporter": "python",
   "pygments_lexer": "ipython3",
   "version": "3.12.4"
  }
 },
 "nbformat": 4,
 "nbformat_minor": 5
}
