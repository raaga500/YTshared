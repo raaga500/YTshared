{
 "cells": [
  {
   "cell_type": "markdown",
   "id": "6ab7cb25-1c3b-4fa0-b111-a51424777e1a",
   "metadata": {},
   "source": [
    "# Multi-Armed Bandits"
   ]
  },
  {
   "cell_type": "markdown",
   "id": "f46ea06a-f2aa-4d3a-8883-235469e191b8",
   "metadata": {},
   "source": [
    "### Key Takeaways\n",
    "1. What is a bandit problem, What is multi armed bandit and K-Armed bandit\n",
    "2. Exploration vs Exploitation challenge\n",
    "3. Action Value Methods\n",
    "4. 10-Armed Testbed. Bandit Algorithm Implementation with Incremental update\n",
    "5. Comparison of different values of Epsilons in terms of Average Reward"
   ]
  },
  {
   "cell_type": "markdown",
   "id": "481bec11-5317-4eea-9e5b-0053be7e6cb1",
   "metadata": {},
   "source": [
    "## 1. Bandit machines"
   ]
  },
  {
   "cell_type": "markdown",
   "id": "1640ef17-6c94-402f-96f3-f87c1368cc3f",
   "metadata": {},
   "source": [
    "<img src=\"images/slotMachine.png\" alt=\"Bandit Machine\" style=\"width: 200px;\"/>"
   ]
  },
  {
   "cell_type": "markdown",
   "id": "994eeca7-edc0-4568-91f2-ed4e31c4210c",
   "metadata": {},
   "source": [
    "- Bandit machines used in casinos which have one lever\n",
    "- The player needs to push the lever to win a jackpot or loose all their money\n",
    "- The nature of the machine to get the players to empty their pockets is the reason it is called bandit machine."
   ]
  },
  {
   "cell_type": "markdown",
   "id": "2e353a08-9826-49f0-bfff-a6b60a691b78",
   "metadata": {},
   "source": [
    "## Multi-Armed or k-armed bandit machines"
   ]
  },
  {
   "cell_type": "markdown",
   "id": "ce1cf14e-ad9e-4b4c-9603-eab7cda76be3",
   "metadata": {},
   "source": [
    "- Reinforcement learning uses a problem loosely derived from this bandit machine\n",
    "- It provides a simplified setting, which does not involve learning to act in more than one situation (non-associative) setting."
   ]
  },
  {
   "cell_type": "markdown",
   "id": "4fff06c5-4cb3-4b8e-b900-9c9d3b67196e",
   "metadata": {},
   "source": [
    "- Instead of 1 arm there can be K arms\n",
    "- the player can choose to pull any arm or take any action from the k options\n",
    "- Each action has its own Reward probability distribution\n",
    "- The goal of the agent is to maximize the total rewards across multiple episodes by learning to pull the right levers or take the most optimal actions"
   ]
  },
  {
   "cell_type": "markdown",
   "id": "adfe4504-f0b4-48a8-a741-36d40af86330",
   "metadata": {},
   "source": [
    "### K-Armed Bandit Problem"
   ]
  },
  {
   "cell_type": "markdown",
   "id": "8a79cbb2-5aed-4286-a05f-5a9e3055c868",
   "metadata": {},
   "source": [
    "- The agent is repeatedly faced with k options or actions.\n",
    "- Each action taken provides a numerical reward from a stationary probability distribution.\n",
    "- Stationary means the mean and variance of the distribution does not change over time.\n",
    "- Objective of the agent is to maximize the expected total reward over some time period, for ex over 1000 actions or time steps"
   ]
  },
  {
   "cell_type": "markdown",
   "id": "dea87267-64c8-4bb3-9201-552e7dc1afa2",
   "metadata": {},
   "source": [
    "### Value of the action"
   ]
  },
  {
   "cell_type": "markdown",
   "id": "4923b299-57f7-4dc5-9a8f-ca9e117b1ea0",
   "metadata": {},
   "source": [
    "In the k-armed bandit problem, each of the k actions has an expected or mean reward given that action is selected, let’s call this the value of the action."
   ]
  },
  {
   "cell_type": "markdown",
   "id": "c8fdd4bd-e507-44dc-86a6-d0e4e0c64625",
   "metadata": {},
   "source": [
    "<img src=\"images/q_star.png\" alt=\"Bandit Machine\" style=\"width: 500px;\"/>"
   ]
  },
  {
   "cell_type": "markdown",
   "id": "dab17aff-d5de-44b5-bdc2-c3ad3469d5d3",
   "metadata": {},
   "source": [
    "- If we knew the value of each action I.e. q*(a) then it would be trivial to solve the k-armed bandit problem as we will always select the action with highest value.\n",
    "\n",
    "\n",
    "- It is assumed that we do not know the action values q*(a) with certainty. Hence we need to estimate it. The estimated value is denoted as Qt(a) and our goal is to get Qt(a) to be as close to q*(a)\n"
   ]
  },
  {
   "cell_type": "markdown",
   "id": "7d2f7524-bc70-4523-b65a-0e7aa9a6370f",
   "metadata": {},
   "source": [
    "## 2. Exploration vs Exploitation\n",
    "\n",
    "### Greedy actions\n",
    "\n",
    "- We keep track of the estimated action values and the highest value at any time step is the greedy action.\n",
    "- When the agent selects one of the greedy actions it is said to **exploit** its current knowledge\n",
    "\n",
    "\n",
    "\n",
    "### Non-Greedy actions\n",
    "\n",
    "- However if the action with non-highest value is selected then it is called the non-greedy action\n",
    "- The agent is said to be **exploring**. It enables us to try out non greedy actions and may be improve their probability estimates\n",
    "\n",
    "- Exploitation is the right thing to do maximize the reward on one step, but exploration is needed to maximize the total reward in the long run\n",
    "\n",
    "\n",
    "-Reward is lower in the short run during exploration higher in longer run.\n",
    "\n",
    "**Because it is not possible to both explore and exploit with any single action, it is referred to the conflict between exploration and exploitation**\n",
    "\n",
    "\n",
    "\n",
    "\n",
    "Whether it is better to explore or exploit at any step is determined by the precise values of the estimates, uncertainties and the number of remaining steps\n",
    "\n",
    "\n",
    "**We need to balance exploration and exploitation**"
   ]
  },
  {
   "cell_type": "markdown",
   "id": "8882bdd8-c098-4ac0-a620-12cf3d30a079",
   "metadata": {},
   "source": [
    "## 3. Action Value Methods"
   ]
  },
  {
   "cell_type": "markdown",
   "id": "db40dfd9-0893-4ef6-8a84-7f1606cd62ca",
   "metadata": {},
   "source": [
    "- Methods for estimating the values of actions and for using the estimates to make action selection decisions are collectively called Action-Value Methods."
   ]
  },
  {
   "cell_type": "markdown",
   "id": "98642d03-6c4f-4a00-ae79-b2645081f3b2",
   "metadata": {},
   "source": [
    "- As I already mentioned that true value of an action is the mean reward when the action is selected. One natural way to estimate this is by averaging the rewards actually recieved"
   ]
  },
  {
   "cell_type": "markdown",
   "id": "a2556cd0-92a7-4622-838a-8770c5bebab3",
   "metadata": {},
   "source": [
    "<img src=\"images/q_estimated.jpg\" alt=\"q_estimated\" style=\"width: 500px;\"/>"
   ]
  },
  {
   "cell_type": "markdown",
   "id": "469113ee-3074-4293-aa59-01db2e0c03bc",
   "metadata": {},
   "source": [
    "- As the denominator goes to infinity, by law of large numbers Qt(a) converges to true value of q*(a). This method is called the **sample average method** for estimating action values"
   ]
  },
  {
   "cell_type": "markdown",
   "id": "5facaff7-05f9-4ad2-99b1-ef5a55e08f82",
   "metadata": {},
   "source": [
    "### Now comes the problem of how to select actions based on action values estimates\n",
    "\n",
    "\n",
    "Simplest rules is to select one of the actions with highest estimated value, i.e. the greedy action. If there is more than one greedy action then the tie is broken by randomly selecting any of the greedy actions."
   ]
  },
  {
   "cell_type": "markdown",
   "id": "9eb1e908-6f4e-4b45-b9e6-af68301962a2",
   "metadata": {},
   "source": [
    "<img src=\"images/argmax.png\" alt=\"argmax\" style=\"width: 500px;\"/>"
   ]
  },
  {
   "cell_type": "markdown",
   "id": "88ccc28f-c09b-48d5-8afe-8ffb07bc06d0",
   "metadata": {},
   "source": [
    "### Epsilon Greedy methods"
   ]
  },
  {
   "cell_type": "markdown",
   "id": "c0f6ceaa-9266-4c9e-8149-c82bc0d979e6",
   "metadata": {},
   "source": [
    "- Greedy action is good for maximize immediate rewards but for long run we need to introduce exploration.\n",
    "- A simple way is the behave greedily most of the time but every once in a while with a small probability of epsilon, select a random action from among all the actions with equal probability, irrespective of the action value estimates.\n",
    "\n",
    "- Such methods are called epsilon- greedy methods.\n",
    "\n",
    "\n",
    "- The advantage of these methods is that, in the limit as the number of steps increases to every action will be sampled infinite number of times, which ensures that all the Qt(a) converge to q*(a)\n",
    "\n",
    "\n",
    "**This implies that the probability of selecting the optimal action converges to greater than 1-epsilon, I.e. to near certainty.**\n"
   ]
  },
  {
   "cell_type": "markdown",
   "id": "16947e33-25b2-4102-8809-4c076c350a65",
   "metadata": {},
   "source": [
    "## 4. 10-Armed Testbed. Bandit Algorithm Implementation with Incremental update"
   ]
  },
  {
   "cell_type": "markdown",
   "id": "cd984a87-a6b6-4da4-823a-d31a89b016ba",
   "metadata": {},
   "source": [
    "<img src=\"images/10_armed_testbed.png\" alt=\"10_armed_testbed\" style=\"width: 600px;\"/>"
   ]
  },
  {
   "cell_type": "markdown",
   "id": "1029c15f-0c6c-4ee0-a458-d82bee364694",
   "metadata": {},
   "source": [
    "### Incremental Update Algorithm"
   ]
  },
  {
   "cell_type": "markdown",
   "id": "cb70d01a-6a67-46c9-8847-2fade7dea5b2",
   "metadata": {},
   "source": [
    "<img src=\"images/incrementalAlgo.jpeg\" alt=\"banditAlgo\" style=\"width: 600px;\"/>\n"
   ]
  },
  {
   "cell_type": "markdown",
   "id": "3bc2fb1e-8fb3-4904-88dd-255f898a6ea9",
   "metadata": {},
   "source": [
    "<img src=\"images/banditAlgo.png\" alt=\"10_armed_testbed\" style=\"width: 600px;\"/>"
   ]
  },
  {
   "cell_type": "markdown",
   "id": "dc712a9a-2f70-4240-a566-70822b46a9c5",
   "metadata": {
    "jp-MarkdownHeadingCollapsed": true
   },
   "source": [
    "### Bandit Algorithm with Incremental Update"
   ]
  },
  {
   "cell_type": "code",
   "execution_count": 1,
   "id": "248aaffb-43ce-4d0e-b8a6-5caf0753244c",
   "metadata": {},
   "outputs": [],
   "source": [
    "import numpy as np"
   ]
  },
  {
   "cell_type": "code",
   "execution_count": 10,
   "id": "8f10cbca-c3fb-4b58-9c35-247d09e93ae0",
   "metadata": {},
   "outputs": [
    {
     "name": "stdout",
     "output_type": "stream",
     "text": [
      "[ 0.0153654   2.70729617 -1.47579189 -0.13472592  0.03773133  0.25751557\n",
      "  1.40308331 -0.1181109  -0.85816852  0.69066497]\n"
     ]
    }
   ],
   "source": [
    "q_star_a = np.random.normal(0,1,k)\n",
    "print(q_star_a)"
   ]
  },
  {
   "cell_type": "code",
   "execution_count": 127,
   "id": "45ca17a6-3659-4e9b-8684-44c81e8ce33e",
   "metadata": {},
   "outputs": [
    {
     "name": "stdout",
     "output_type": "stream",
     "text": [
      "[ 1.37026341 -0.23388683 -0.25486226  1.62130114  0.06478948 -0.02462485\n",
      "  0.71848552  1.0416152  -0.38215793  1.05697165]\n"
     ]
    }
   ],
   "source": [
    "k=10\n",
    "q_star_a = np.random.normal(0,1,k)\n",
    "print(q_star_a)\n",
    "\n",
    "def max_index(q_a):\n",
    "    #break ties randomly\n",
    "    q_a = np.array(q_a)\n",
    "    return np.random.choice(np.where(q_a == q_a.max())[0])\n",
    "\n",
    "def bandit(a,q_star_a):\n",
    "    #each reward for the action will come fromthe prob distribution of that action\n",
    "    #which has a mean of q*(a) and variance of 1\n",
    "    reward = np.random.normal(q_star_a[a],1) \n",
    "    return reward\n",
    "    \n",
    "def one_run(eps,k,steps):\n",
    "    \n",
    "    q_a = [0]*k\n",
    "    n_a = [0]*k\n",
    "    n_a_steps = []\n",
    "    q_a_steps = []\n",
    "    r_steps =[0]\n",
    "    a_steps =[]\n",
    "  \n",
    "    for step in range(steps):\n",
    "        if np.random.random() < eps:\n",
    "            a = np.random.choice(range(k))\n",
    "        else:\n",
    "            a = max_index(q_a)\n",
    "        #print(f'Action: {a}')\n",
    "        r = bandit(a,q_star_a)\n",
    "    \n",
    "        \n",
    "        a_steps.append(a)\n",
    "        # cum_reward +=  r\n",
    "        # print(cum_reward)\n",
    "        n_a[a] += 1\n",
    "        q_a[a] = q_a[a] + (1/n_a[a]) * (r - q_a[a])\n",
    "       \n",
    "        n_a_steps.append(n_a.copy())\n",
    "        q_a_steps.append(q_a.copy())\n",
    "        r_steps.append(r)\n",
    "    \n",
    "    return q_star_a, n_a_steps, q_a_steps, r_steps, a_steps\n"
   ]
  },
  {
   "cell_type": "code",
   "execution_count": 88,
   "id": "f28b94b5-863b-49c7-bd53-4d4ac9dbd915",
   "metadata": {},
   "outputs": [],
   "source": [
    "q_star_a, n_a, q_a, r_a, a_steps = one_run(eps=0.1,k=10,steps=1000)"
   ]
  },
  {
   "cell_type": "code",
   "execution_count": 74,
   "id": "44f00bbe-11a5-44f4-a77b-405106882946",
   "metadata": {},
   "outputs": [
    {
     "data": {
      "text/plain": [
       "(1000, 10)"
      ]
     },
     "execution_count": 74,
     "metadata": {},
     "output_type": "execute_result"
    }
   ],
   "source": [
    "np.array(q_a).shape"
   ]
  },
  {
   "cell_type": "code",
   "execution_count": 51,
   "id": "224f3db1-27a9-431f-8a9b-5e64881bfacf",
   "metadata": {},
   "outputs": [
    {
     "data": {
      "text/plain": [
       "3"
      ]
     },
     "execution_count": 51,
     "metadata": {},
     "output_type": "execute_result"
    }
   ],
   "source": [
    "max_index([0,0,1,1])"
   ]
  },
  {
   "cell_type": "code",
   "execution_count": 89,
   "id": "041365f3-418a-4174-bfd3-d6a0f0185e2e",
   "metadata": {},
   "outputs": [
    {
     "data": {
      "text/plain": [
       "array([-0.52199539, -0.32469131, -0.26223425, -0.22981363,  0.60931314,\n",
       "        0.20668003,  0.15599699,  0.16609501, -0.71650168, -0.23727358])"
      ]
     },
     "execution_count": 89,
     "metadata": {},
     "output_type": "execute_result"
    }
   ],
   "source": [
    "q_star_a"
   ]
  },
  {
   "cell_type": "code",
   "execution_count": 90,
   "id": "107903bb-51ae-4aa9-8b18-5368d8bbd71e",
   "metadata": {},
   "outputs": [
    {
     "data": {
      "text/plain": [
       "[[20, 14, 11, 7, 771, 5, 27, 116, 7, 13],\n",
       " [20, 14, 11, 7, 772, 5, 27, 116, 7, 13],\n",
       " [20, 14, 11, 7, 773, 5, 27, 116, 7, 13],\n",
       " [20, 14, 11, 7, 774, 5, 27, 116, 7, 13],\n",
       " [20, 14, 11, 7, 775, 5, 27, 116, 7, 13],\n",
       " [20, 14, 11, 7, 776, 5, 27, 116, 7, 13],\n",
       " [20, 14, 11, 7, 777, 5, 27, 116, 7, 13],\n",
       " [20, 14, 11, 7, 778, 5, 27, 116, 7, 13],\n",
       " [20, 14, 11, 7, 779, 5, 27, 116, 7, 13],\n",
       " [20, 14, 11, 7, 780, 5, 27, 116, 7, 13]]"
      ]
     },
     "execution_count": 90,
     "metadata": {},
     "output_type": "execute_result"
    }
   ],
   "source": [
    "n_a[-10:]"
   ]
  },
  {
   "cell_type": "code",
   "execution_count": 92,
   "id": "bb8e1064-47e2-46d7-aa5e-847640e68150",
   "metadata": {},
   "outputs": [
    {
     "data": {
      "text/plain": [
       "[4, 4, 4, 4, 4, 4, 4, 4, 4, 4]"
      ]
     },
     "execution_count": 92,
     "metadata": {},
     "output_type": "execute_result"
    }
   ],
   "source": [
    "a_steps[-10:]"
   ]
  },
  {
   "cell_type": "code",
   "execution_count": 95,
   "id": "359daf2f-a95e-46a9-8757-38fa4750ba11",
   "metadata": {
    "collapsed": true,
    "jupyter": {
     "outputs_hidden": true
    }
   },
   "outputs": [
    {
     "data": {
      "text/plain": [
       "[[-0.6340782879400879,\n",
       "  -0.5062987045232831,\n",
       "  -0.36096788107779826,\n",
       "  -0.7510675216622548,\n",
       "  0.6012150357859309,\n",
       "  -0.008543865588458988,\n",
       "  0.07163186396640389,\n",
       "  0.1294646716090863,\n",
       "  -0.5697022803752921,\n",
       "  -0.37975159262393365],\n",
       " [-0.6340782879400879,\n",
       "  -0.5062987045232831,\n",
       "  -0.36096788107779826,\n",
       "  -0.7510675216622548,\n",
       "  0.5990259967002202,\n",
       "  -0.008543865588458988,\n",
       "  0.07163186396640389,\n",
       "  0.1294646716090863,\n",
       "  -0.5697022803752921,\n",
       "  -0.37975159262393365],\n",
       " [-0.6340782879400879,\n",
       "  -0.5062987045232831,\n",
       "  -0.36096788107779826,\n",
       "  -0.7510675216622548,\n",
       "  0.5973298706852808,\n",
       "  -0.008543865588458988,\n",
       "  0.07163186396640389,\n",
       "  0.1294646716090863,\n",
       "  -0.5697022803752921,\n",
       "  -0.37975159262393365],\n",
       " [-0.6340782879400879,\n",
       "  -0.5062987045232831,\n",
       "  -0.36096788107779826,\n",
       "  -0.7510675216622548,\n",
       "  0.5981365412201682,\n",
       "  -0.008543865588458988,\n",
       "  0.07163186396640389,\n",
       "  0.1294646716090863,\n",
       "  -0.5697022803752921,\n",
       "  -0.37975159262393365],\n",
       " [-0.6340782879400879,\n",
       "  -0.5062987045232831,\n",
       "  -0.36096788107779826,\n",
       "  -0.7510675216622548,\n",
       "  0.5996317936195058,\n",
       "  -0.008543865588458988,\n",
       "  0.07163186396640389,\n",
       "  0.1294646716090863,\n",
       "  -0.5697022803752921,\n",
       "  -0.37975159262393365],\n",
       " [-0.6340782879400879,\n",
       "  -0.5062987045232831,\n",
       "  -0.36096788107779826,\n",
       "  -0.7510675216622548,\n",
       "  0.5979280383491283,\n",
       "  -0.008543865588458988,\n",
       "  0.07163186396640389,\n",
       "  0.1294646716090863,\n",
       "  -0.5697022803752921,\n",
       "  -0.37975159262393365],\n",
       " [-0.6340782879400879,\n",
       "  -0.5062987045232831,\n",
       "  -0.36096788107779826,\n",
       "  -0.7510675216622548,\n",
       "  0.5986280371358164,\n",
       "  -0.008543865588458988,\n",
       "  0.07163186396640389,\n",
       "  0.1294646716090863,\n",
       "  -0.5697022803752921,\n",
       "  -0.37975159262393365],\n",
       " [-0.6340782879400879,\n",
       "  -0.5062987045232831,\n",
       "  -0.36096788107779826,\n",
       "  -0.7510675216622548,\n",
       "  0.6011981464384228,\n",
       "  -0.008543865588458988,\n",
       "  0.07163186396640389,\n",
       "  0.1294646716090863,\n",
       "  -0.5697022803752921,\n",
       "  -0.37975159262393365],\n",
       " [-0.6340782879400879,\n",
       "  -0.5062987045232831,\n",
       "  -0.36096788107779826,\n",
       "  -0.7510675216622548,\n",
       "  0.6025613797566813,\n",
       "  -0.008543865588458988,\n",
       "  0.07163186396640389,\n",
       "  0.1294646716090863,\n",
       "  -0.5697022803752921,\n",
       "  -0.37975159262393365],\n",
       " [-0.6340782879400879,\n",
       "  -0.5062987045232831,\n",
       "  -0.36096788107779826,\n",
       "  -0.7510675216622548,\n",
       "  0.6027249232145604,\n",
       "  -0.008543865588458988,\n",
       "  0.07163186396640389,\n",
       "  0.1294646716090863,\n",
       "  -0.5697022803752921,\n",
       "  -0.37975159262393365]]"
      ]
     },
     "execution_count": 95,
     "metadata": {},
     "output_type": "execute_result"
    }
   ],
   "source": [
    "q_a[-10:]"
   ]
  },
  {
   "cell_type": "code",
   "execution_count": 94,
   "id": "1ef7aa75-cde4-4d2a-a236-c2648562d305",
   "metadata": {},
   "outputs": [
    {
     "data": {
      "text/plain": [
       "array([-0.52199539, -0.32469131, -0.26223425, -0.22981363,  0.60931314,\n",
       "        0.20668003,  0.15599699,  0.16609501, -0.71650168, -0.23727358])"
      ]
     },
     "execution_count": 94,
     "metadata": {},
     "output_type": "execute_result"
    }
   ],
   "source": [
    "q_star_a"
   ]
  },
  {
   "cell_type": "code",
   "execution_count": 93,
   "id": "470162df-ff0b-4e56-af1e-1586864ffd78",
   "metadata": {},
   "outputs": [
    {
     "data": {
      "text/plain": [
       "[1.1434946960176133,\n",
       " -1.0887231383827536,\n",
       " -0.712079412847928,\n",
       " 1.2216928646882024,\n",
       " 1.7569571507068011,\n",
       " -0.7224822961934259,\n",
       " 1.1418270956057612,\n",
       " 2.5981730745636447,\n",
       " 1.6631569013617868,\n",
       " 0.7301252769023334]"
      ]
     },
     "execution_count": 93,
     "metadata": {},
     "output_type": "execute_result"
    }
   ],
   "source": [
    "r_a[-10:]"
   ]
  },
  {
   "cell_type": "code",
   "execution_count": 161,
   "id": "a7b8f6b0-ee0a-460c-890c-d6b95367b69a",
   "metadata": {},
   "outputs": [],
   "source": [
    "n_runs = 2000\n",
    "\n",
    "n_steps = 1000\n",
    "\n",
    "eps = 0.1\n",
    "n_a_runs = []\n",
    "q_a_runs = []\n",
    "r_a_runs = []\n",
    "for run in range(n_runs):\n",
    "    q_star_a,n_a,q_a,r_a,a_steps = one_run(eps,k=10,steps=n_steps)\n",
    "        \n",
    "    n_a_runs.append(n_a.copy())\n",
    "    q_a_runs.append(q_a.copy())\n",
    "    r_a_runs.append(r_a.copy())"
   ]
  },
  {
   "cell_type": "code",
   "execution_count": 110,
   "id": "bfb13adb-93dd-4c72-8d4e-14dd2a8023be",
   "metadata": {},
   "outputs": [
    {
     "name": "stdout",
     "output_type": "stream",
     "text": [
      "[  7   8  12   9  11  12 564 150 219   8]\n",
      "[ 0.67274383 -0.54342007 -0.01966921 -0.38046011 -1.25200523 -0.45376248\n",
      "  1.91289935  0.49400277  1.38840865 -0.61561932]\n"
     ]
    }
   ],
   "source": [
    "print(np.array(n_a_runs[0][-1]))\n",
    "print(np.array(q_a_runs[0][-1]))"
   ]
  },
  {
   "cell_type": "code",
   "execution_count": 177,
   "id": "4ebd43be-bef7-4337-9014-47083c7bd8fd",
   "metadata": {},
   "outputs": [
    {
     "data": {
      "text/plain": [
       "[0,\n",
       " 0,\n",
       " 0,\n",
       " 0,\n",
       " 0,\n",
       " -1.0624359415457871,\n",
       " -1.4884405303872095,\n",
       " 0,\n",
       " -0.42388883102581115,\n",
       " 0]"
      ]
     },
     "execution_count": 177,
     "metadata": {},
     "output_type": "execute_result"
    }
   ],
   "source": [
    "q_a_runs[0][2]"
   ]
  },
  {
   "cell_type": "code",
   "execution_count": 111,
   "id": "ac46806c-5205-4d2e-a23f-052ea70c52a4",
   "metadata": {},
   "outputs": [
    {
     "data": {
      "text/plain": [
       "(2000, 1000, 10)"
      ]
     },
     "execution_count": 111,
     "metadata": {},
     "output_type": "execute_result"
    }
   ],
   "source": [
    "np.array(n_a_runs).shape"
   ]
  },
  {
   "cell_type": "code",
   "execution_count": 112,
   "id": "6c966c25-e7be-4239-8a37-917ec25db8dd",
   "metadata": {},
   "outputs": [],
   "source": [
    "q_values = np.array(q_a_runs)"
   ]
  },
  {
   "cell_type": "code",
   "execution_count": 113,
   "id": "760f469c-17c6-45a2-9f5b-570ae20c9bef",
   "metadata": {},
   "outputs": [
    {
     "data": {
      "text/plain": [
       "(2000, 1000, 10)"
      ]
     },
     "execution_count": 113,
     "metadata": {},
     "output_type": "execute_result"
    }
   ],
   "source": [
    "q_values.shape"
   ]
  },
  {
   "cell_type": "code",
   "execution_count": 114,
   "id": "0a28a7fa-3658-4ead-b914-1d5afabdce43",
   "metadata": {},
   "outputs": [
    {
     "data": {
      "text/plain": [
       "array([0.        , 0.        , 0.        , 0.        , 0.        ,\n",
       "       0.        , 0.        , 1.01247952, 0.        , 0.        ])"
      ]
     },
     "execution_count": 114,
     "metadata": {},
     "output_type": "execute_result"
    }
   ],
   "source": [
    "q_values[0][0]"
   ]
  },
  {
   "cell_type": "code",
   "execution_count": 162,
   "id": "c335fbce-349c-420d-aea5-0744c91ae40f",
   "metadata": {},
   "outputs": [],
   "source": [
    "r_values= np.array(r_a_runs)"
   ]
  },
  {
   "cell_type": "code",
   "execution_count": 163,
   "id": "b15934e3-43bb-490b-a9ae-f72f6e5f192f",
   "metadata": {},
   "outputs": [
    {
     "data": {
      "text/plain": [
       "(2000, 1001)"
      ]
     },
     "execution_count": 163,
     "metadata": {},
     "output_type": "execute_result"
    }
   ],
   "source": [
    "r_values.shape"
   ]
  },
  {
   "cell_type": "code",
   "execution_count": 164,
   "id": "0221065b-e941-4aa2-93e9-6d32e27c6b4a",
   "metadata": {},
   "outputs": [
    {
     "data": {
      "text/plain": [
       "(2000, 1001)"
      ]
     },
     "execution_count": 164,
     "metadata": {},
     "output_type": "execute_result"
    }
   ],
   "source": [
    "r_values.shape"
   ]
  },
  {
   "cell_type": "code",
   "execution_count": 170,
   "id": "fab48d2c-a038-4bd9-9b42-c2a26f9d633a",
   "metadata": {},
   "outputs": [],
   "source": [
    "rewards = r_values.mean(axis=0)"
   ]
  },
  {
   "cell_type": "code",
   "execution_count": 171,
   "id": "6607d56d-6eea-4995-97d6-33cb5c961923",
   "metadata": {},
   "outputs": [
    {
     "data": {
      "image/png": "[encoded data removed]",
      "text/plain": [
       "<Figure size 640x480 with 1 Axes>"
      ]
     },
     "metadata": {},
     "output_type": "display_data"
    }
   ],
   "source": [
    "plt.plot(rewards,label=f'epsilon=0.01');"
   ]
  },
  {
   "cell_type": "code",
   "execution_count": 117,
   "id": "6e86715a-74d3-4f38-856f-6cc7b1997eb4",
   "metadata": {},
   "outputs": [
    {
     "data": {
      "text/plain": [
       "1.4295966566402276"
      ]
     },
     "execution_count": 117,
     "metadata": {},
     "output_type": "execute_result"
    }
   ],
   "source": [
    "np.mean(r_values[:][0])"
   ]
  },
  {
   "cell_type": "code",
   "execution_count": 125,
   "id": "65210191-d147-4f8f-9afd-e92dad72848a",
   "metadata": {
    "collapsed": true,
    "jupyter": {
     "outputs_hidden": true
    }
   },
   "outputs": [
    {
     "data": {
      "text/plain": [
       "array([ 1.01247952e+00,  1.63773323e+00,  2.05229516e+00,  5.80284022e-01,\n",
       "        2.63614687e-01,  1.61133474e+00,  3.68774303e-01, -1.00925799e+00,\n",
       "       -6.12986510e-01,  7.93158649e-02, -5.31416960e-01,  7.60909735e-01,\n",
       "        2.63765139e-01,  1.18969523e+00, -1.46881802e-01,  1.63129453e+00,\n",
       "       -1.05254329e+00,  4.57826031e-01,  9.55999360e-01,  1.14119219e+00,\n",
       "        8.21973387e-01, -8.20023832e-01, -5.21207503e-01,  4.74444207e-01,\n",
       "       -1.08507597e+00,  1.23368207e+00,  3.27850422e-01,  2.44271628e+00,\n",
       "        9.49268127e-01, -6.11079163e-02,  9.32001253e-01,  6.93077298e-01,\n",
       "       -5.36531849e-01,  7.83762010e-01,  7.89702798e-01,  3.40425317e-01,\n",
       "        8.10629891e-01,  5.21048992e-01,  4.72587892e-01,  8.87476291e-01,\n",
       "       -1.31629949e-01,  1.62904940e+00,  1.11658189e+00, -3.61968699e-02,\n",
       "       -3.60395778e-01, -1.90541775e-01, -1.08499631e-01, -1.93385393e-01,\n",
       "        9.15032454e-01,  6.69690758e-01,  9.15903272e-01,  1.01260373e+00,\n",
       "        3.57624150e-01, -2.58526013e-01,  2.48863302e+00, -1.71913632e-01,\n",
       "        6.35250404e-01,  1.86557678e-01, -1.60829235e-01,  6.85065018e-01,\n",
       "       -6.22741646e-01,  8.42962151e-01,  2.65287598e+00,  1.33755967e+00,\n",
       "        8.99810884e-01, -2.64764163e-01,  1.42619122e+00,  6.38296289e-01,\n",
       "        2.29045831e-01,  2.62473995e-02,  7.20521193e-01, -4.12780534e-01,\n",
       "        6.09667046e-01,  3.83789064e-01, -1.61065457e+00,  1.03325417e-02,\n",
       "        4.30935115e-01,  1.06636889e+00,  2.02904845e-01, -1.05910551e+00,\n",
       "        1.78265909e+00,  2.81834312e-01, -7.66716603e-01,  7.68909961e-01,\n",
       "        1.29280829e+00, -5.51210757e-01,  1.12477525e+00, -1.02812161e+00,\n",
       "       -2.32223835e-01, -5.43977476e-01,  4.48909091e-01,  1.63248167e+00,\n",
       "        1.28738348e+00,  1.17276715e+00,  1.05985636e+00,  8.53876575e-01,\n",
       "       -7.28051527e-01,  7.74736151e-01, -7.74243007e-02,  1.28021813e+00,\n",
       "        8.95276109e-01,  2.17542833e+00, -6.88284845e-01,  1.66952561e+00,\n",
       "        2.02141366e+00, -9.62203137e-01,  8.68326142e-01,  6.04612504e-01,\n",
       "        1.28973272e+00, -1.53517076e-01, -7.57329513e-02, -3.90814426e-01,\n",
       "        1.13993304e+00,  1.74562983e+00, -1.77054662e+00, -2.82458436e-01,\n",
       "        1.60235899e-01, -1.37323510e-01,  1.76601745e-01,  7.39233157e-01,\n",
       "        7.27637443e-01, -1.07280286e-01,  1.94926426e+00,  2.96185203e-01,\n",
       "        4.29445995e-01,  2.50477397e+00,  3.25816974e-01, -1.97910064e+00,\n",
       "       -3.13415555e-01,  2.72692170e+00, -3.43169232e-01,  4.10199442e-01,\n",
       "        5.26305956e-01,  2.07975330e+00,  3.36282284e-01, -4.40369113e-01,\n",
       "        9.91853504e-01,  2.03573016e+00,  1.81990228e+00,  6.73477966e-01,\n",
       "        9.98844440e-01,  1.43240925e+00,  2.23197107e-01,  6.91214844e-01,\n",
       "       -1.18510952e+00, -1.28825921e+00, -1.03163356e+00, -8.79363724e-01,\n",
       "        1.93609937e+00, -8.50022831e-01,  7.94704971e-01,  3.08594116e+00,\n",
       "        2.54464783e+00,  9.04180133e-01,  1.25448612e+00,  4.74439335e-01,\n",
       "        2.04907875e+00,  5.44097339e-02,  1.17941277e-02,  1.99876247e+00,\n",
       "        1.49328988e+00,  8.44442577e-01,  2.54892752e+00,  7.90598655e-01,\n",
       "        3.81238321e-02, -8.74729105e-01,  2.08730242e+00,  1.11403661e+00,\n",
       "        3.81627972e-01,  4.32605267e-01,  1.53314297e+00,  8.07810016e-01,\n",
       "        1.80528168e+00,  2.31217617e+00,  2.75811177e+00,  8.46126868e-01,\n",
       "        8.83883524e-01,  1.86510884e+00,  2.37895953e+00,  1.13770020e+00,\n",
       "        1.24139641e-01,  1.86467967e+00,  1.10133787e+00,  1.34057624e+00,\n",
       "        5.84567218e-01,  1.70020862e+00,  1.34728761e+00,  8.63885942e-01,\n",
       "        7.55411345e-01,  2.61838333e+00, -3.90629300e-01,  9.67169638e-01,\n",
       "        2.24277957e+00,  2.07958779e+00,  1.08739893e+00,  1.87004651e+00,\n",
       "        2.07526263e+00,  1.85445145e+00,  8.04001189e-01,  2.27713486e+00,\n",
       "        1.95109238e+00,  2.04893628e+00,  5.08101141e-01,  8.21097167e-01,\n",
       "        9.86267628e-01,  1.13206469e+00,  3.51078038e+00,  1.45796947e+00,\n",
       "       -9.05454141e-01,  1.93187833e+00,  1.57653294e-01,  2.39200616e+00,\n",
       "        1.03127966e+00,  2.29416154e-01,  2.69910233e+00,  1.63666861e+00,\n",
       "        2.34963719e+00,  2.38579285e-01,  2.00870871e+00,  7.70532927e-01,\n",
       "        2.94892674e+00,  2.07651152e+00, -2.51861814e-01,  1.80810338e+00,\n",
       "       -4.31217912e-02,  1.23774786e-01,  7.18788927e-01, -3.82275323e-01,\n",
       "        2.23799250e+00,  1.85431299e+00,  2.11393312e+00,  1.82942908e+00,\n",
       "        2.06664864e+00,  6.95165589e-02,  8.73584290e-01, -4.59010792e-01,\n",
       "        1.21918340e+00,  1.92708090e+00,  1.56851019e+00, -5.99235339e-01,\n",
       "       -5.44336871e-01,  7.69885469e-01,  1.31659826e+00, -2.59603273e+00,\n",
       "        1.90010998e+00,  1.12551049e+00, -5.23653642e-01,  6.94295705e-02,\n",
       "       -1.82325497e-01,  3.14555947e+00,  1.21501895e+00,  9.03280695e-01,\n",
       "        1.96970499e+00,  1.63507302e+00,  2.95901949e+00, -6.69347301e-01,\n",
       "        2.46751812e+00,  2.08058404e+00, -5.67021021e-01,  2.85384619e+00,\n",
       "        7.60453823e-02,  1.27743752e-01,  2.43024922e+00,  1.30203962e+00,\n",
       "        1.58073954e+00,  1.04218870e+00,  3.61754379e+00,  1.53035348e+00,\n",
       "        3.95864837e-01,  2.28415193e+00,  2.44054596e+00,  2.01927042e+00,\n",
       "        2.38571120e+00,  6.36543838e-01,  1.95973526e-01,  1.99453998e+00,\n",
       "        1.13681269e+00, -7.72006582e-01,  4.25863945e-01,  1.11814324e+00,\n",
       "        4.44347273e-01,  2.35741175e+00,  1.02420688e+00,  1.05759546e+00,\n",
       "        1.49565713e+00,  9.64770715e-01,  2.06427826e-01,  3.70471062e-01,\n",
       "        2.66605349e-01,  2.19387069e+00,  1.54220831e+00,  3.11113562e+00,\n",
       "        2.89128913e+00,  1.32854421e+00,  7.22893757e-02,  1.10113063e+00,\n",
       "        1.88095029e+00,  1.63161313e+00,  1.77821658e+00,  1.64514963e+00,\n",
       "        1.52152906e+00,  1.19095903e+00,  1.31184172e+00,  3.51413178e+00,\n",
       "        3.31354309e+00,  1.89153014e+00,  7.55605042e-01,  7.42056020e-01,\n",
       "        1.04298509e+00,  1.21784926e+00,  8.78073195e-01,  1.96495058e+00,\n",
       "       -1.56410306e+00,  8.26372228e-01,  2.09772900e+00,  1.91755732e+00,\n",
       "        2.70058042e-01,  1.79350419e+00,  9.95265790e-01,  6.16369565e-01,\n",
       "        1.69672385e+00,  2.43265698e+00, -1.05540521e+00,  1.19888545e+00,\n",
       "       -9.39005972e-01,  1.30711595e+00,  8.53345072e-01, -6.08317943e-01,\n",
       "        1.29831541e+00,  3.74070267e+00,  2.02639961e+00,  2.13372808e+00,\n",
       "       -9.67614875e-01,  1.22598605e+00,  2.64011855e+00,  1.05571784e+00,\n",
       "        5.41760638e-01,  1.28335171e-01,  2.38109271e+00,  4.28061878e-01,\n",
       "        1.45917897e+00,  9.68296704e-02,  1.38529956e+00,  7.50633620e-01,\n",
       "        2.04475756e+00,  6.18013807e-01, -7.84944611e-01,  1.51409020e+00,\n",
       "        5.36286397e-01,  1.58232312e+00,  2.56250474e+00,  8.15301794e-01,\n",
       "        1.27794055e+00,  3.13069637e+00,  3.44576224e-01,  1.31134852e+00,\n",
       "        1.25141436e+00,  7.11457399e-01,  2.22178720e+00,  2.59383047e+00,\n",
       "        1.56684619e+00,  4.71331736e-01,  1.64039416e+00,  1.99442332e+00,\n",
       "        3.09532752e+00, -1.67559581e+00,  2.37394845e+00, -1.66091042e+00,\n",
       "        1.35054187e-01,  1.97165183e-01,  2.19437015e+00,  9.47566621e-01,\n",
       "        2.29903425e+00,  2.07949472e+00,  1.79651317e+00,  4.60097602e-01,\n",
       "        1.69252992e+00,  1.60513432e+00,  1.81537019e+00,  1.68546067e+00,\n",
       "        8.27477734e-01,  2.65618748e-01,  1.88455543e+00,  2.44051367e+00,\n",
       "       -2.42148665e+00,  2.98522726e+00,  2.27935344e+00,  4.37873952e+00,\n",
       "        1.97102756e+00,  2.65822597e+00,  2.75664587e+00,  3.00923587e+00,\n",
       "        1.46796335e+00,  1.28225230e+00,  1.62742488e-01,  3.72317091e+00,\n",
       "        3.76654445e+00,  1.57500643e+00,  4.25492575e+00,  2.10655746e-01,\n",
       "        1.86933790e+00,  9.84486666e-01,  1.54699659e+00,  3.31189561e+00,\n",
       "        2.16732373e+00,  2.03629921e+00,  1.63808326e+00,  3.99732072e+00,\n",
       "        1.65977192e+00,  4.59606409e+00,  6.13161483e-01,  7.04520490e-01,\n",
       "        2.79257834e+00,  9.40800306e-01,  2.44635691e+00,  2.77474289e+00,\n",
       "        2.14827031e+00,  6.64186557e-01,  7.04830514e-01,  1.14701349e+00,\n",
       "        2.62727603e+00,  3.54146247e+00,  3.54209987e-01,  2.28900619e+00,\n",
       "        2.39386485e+00,  1.51323901e+00,  2.84191624e+00,  1.29937430e+00,\n",
       "        4.27527588e+00,  1.29702254e+00,  1.98107157e+00,  2.03620551e+00,\n",
       "        2.00511691e+00,  2.79833976e+00,  2.02215173e+00,  1.81894156e+00,\n",
       "        2.67732424e+00,  2.40613410e+00, -6.44454263e-01,  2.66190701e+00,\n",
       "        1.31381782e+00,  1.40751134e+00,  1.46125018e+00,  7.39023132e-01,\n",
       "        4.88022212e-01,  1.47845437e+00,  2.82266611e+00,  8.33298354e-01,\n",
       "        2.44264447e+00, -8.62292535e-02,  6.80662919e-01,  1.51700381e+00,\n",
       "        1.93431089e+00, -1.68398170e+00, -1.07366218e-01, -7.65201010e-01,\n",
       "        4.51730678e+00,  2.95234723e+00,  1.97937808e+00, -1.13440224e-01,\n",
       "        2.05769529e+00,  8.68636826e-01,  3.01948619e+00,  1.33928213e+00,\n",
       "       -1.39745309e-02,  1.75507371e+00,  3.08301196e+00, -5.81459373e-02,\n",
       "        2.58989716e+00,  1.30578860e+00,  8.08907331e-01,  7.07109842e-01,\n",
       "        3.23071073e-01,  1.58686309e+00,  1.88326950e+00,  1.05257833e+00,\n",
       "        8.40269516e-01,  1.22934044e+00,  3.38544254e+00,  4.28247862e-01,\n",
       "        2.95380591e+00,  1.89237055e+00,  3.52051619e-01, -8.20089737e-01,\n",
       "        9.29468839e-01,  2.86939467e+00,  8.79896907e-02,  5.95903111e-01,\n",
       "        3.17851768e+00,  5.80898656e-01,  2.10642054e+00,  1.30555122e+00,\n",
       "        3.42852863e-01,  2.37532465e+00,  2.42907189e+00, -4.55773842e-02,\n",
       "        2.79777524e+00,  3.43315746e+00,  1.71383537e+00,  3.31013622e+00,\n",
       "        6.98810803e-01,  2.58951409e+00,  2.81191511e+00,  3.65442605e+00,\n",
       "        4.26428155e+00,  3.17429492e+00,  2.16369442e+00,  1.99657197e+00,\n",
       "        2.17879788e+00,  1.32362698e+00,  2.30947474e+00,  1.06676263e+00,\n",
       "        3.23017302e+00,  2.72110180e+00,  2.69534409e+00,  2.53769062e-01,\n",
       "        1.06847697e+00, -5.61492400e-01,  8.19909176e-01,  1.79819263e+00,\n",
       "        2.83424424e+00,  2.39104539e-01, -4.92960111e-02,  4.13904843e+00,\n",
       "        1.92902671e+00,  8.65835186e-01,  1.18553181e+00,  1.63315598e+00,\n",
       "        1.43962820e+00,  3.27579217e+00,  3.96739193e+00,  2.44336252e+00,\n",
       "        1.66311709e+00,  2.07475621e+00,  9.23615261e-01,  1.62843293e+00,\n",
       "        1.35839476e+00,  2.82004465e+00,  2.35570247e+00,  2.66938605e+00,\n",
       "        2.32589761e-03,  1.30943563e+00,  9.84901191e-01,  3.37440940e+00,\n",
       "        2.82889008e+00, -5.97516952e-01,  2.09594818e+00, -1.92599300e-01,\n",
       "        1.34815801e+00,  2.96251262e+00,  2.92357631e+00,  1.53730358e+00,\n",
       "        1.82894811e+00,  2.31134199e+00,  1.49927374e+00,  2.79615029e+00,\n",
       "        2.22841591e+00,  2.07108312e+00,  2.42638464e+00,  1.61517283e+00,\n",
       "        2.97388526e-02,  2.25475429e+00,  2.63373705e+00,  5.96167485e-01,\n",
       "        1.30093678e+00,  1.82654772e+00,  2.40530308e+00,  6.48028471e-01,\n",
       "        1.94049315e+00,  1.52933871e+00,  2.55239096e+00,  1.29825498e+00,\n",
       "        3.41338525e+00,  1.12456577e+00,  3.87701210e+00,  3.10720919e+00,\n",
       "        1.51773731e+00,  1.38887697e+00,  2.18542694e+00,  1.08312733e+00,\n",
       "        1.51995696e+00,  1.49091205e+00,  1.65321654e+00,  1.15955987e+00,\n",
       "        3.91952056e+00,  1.40206957e+00, -1.21361406e+00,  1.33091743e+00,\n",
       "        5.54412608e-01,  2.63226945e+00,  8.27833047e-01, -1.05639169e-01,\n",
       "        2.59159824e+00,  2.32788310e+00,  3.30217146e+00,  2.96482548e+00,\n",
       "        4.60672202e+00,  2.12148109e+00,  7.93453336e-01,  2.80955979e+00,\n",
       "       -5.48592846e-01, -7.55303041e-01,  5.09808195e-01,  1.34525547e+00,\n",
       "        6.48840685e-01,  1.72205784e+00,  1.66780682e+00,  2.37157453e+00,\n",
       "        1.71853558e+00,  4.00879498e+00,  2.73661219e+00,  2.63579009e+00,\n",
       "        2.12700567e+00,  9.10958196e-01, -7.63763164e-01,  1.66526087e+00,\n",
       "        1.89751395e+00,  8.63577527e-01,  1.33909329e+00, -1.95821689e-02,\n",
       "       -1.14081872e+00,  1.25635126e+00,  1.99409075e+00,  3.02022568e+00,\n",
       "        2.18568724e+00,  2.58912510e+00,  1.72709561e+00,  2.58177260e+00,\n",
       "        1.59240194e+00,  5.12162220e-01, -1.63878367e+00,  2.86892526e+00,\n",
       "        2.46435360e+00,  1.26759430e+00, -9.06475109e-01,  2.94127033e+00,\n",
       "        2.95610190e+00,  4.51897100e+00,  2.07754417e+00,  2.43198407e+00,\n",
       "        3.30945830e+00, -6.91602782e-01,  3.21904195e+00,  1.54836468e+00,\n",
       "        2.84796806e+00,  2.95779005e+00,  7.14534715e-01,  6.14805152e-01,\n",
       "        2.58928817e+00,  1.52595763e+00,  1.92209206e+00,  9.66974397e-01,\n",
       "        2.24922923e+00,  3.07636041e+00,  1.28046932e+00,  3.67326993e-01,\n",
       "        9.67049725e-01,  2.80295135e+00,  2.86391642e+00,  1.04924490e+00,\n",
       "        1.54525560e+00,  2.61600456e+00,  2.41745642e+00,  3.34232038e+00,\n",
       "        1.22723548e+00,  2.59998265e+00,  1.48164856e+00,  7.32105875e-01,\n",
       "        2.54261609e+00,  2.15852707e+00,  3.92398706e+00,  2.05390661e+00,\n",
       "        4.82016714e-01,  2.93710814e+00,  1.58573815e+00,  6.62140793e-01,\n",
       "        2.29886562e+00,  1.78389227e+00,  2.75003182e+00,  1.94146583e+00,\n",
       "        2.77072174e+00,  1.07357147e+00,  1.70870744e+00,  1.22874253e+00,\n",
       "        2.82636177e+00,  1.81000068e+00, -8.50754502e-01,  1.09845134e+00,\n",
       "        1.55075929e+00,  1.86898480e+00,  3.51938393e+00,  3.31926976e+00,\n",
       "        1.18363076e+00,  1.43317843e-02,  7.17354044e-01,  2.30079148e+00,\n",
       "        1.02850458e+00,  1.62795462e+00,  1.86195313e+00,  1.31826086e+00,\n",
       "        3.04969182e+00,  8.27523382e-01,  8.05514852e-01, -4.24791541e-01,\n",
       "        2.56750281e+00,  1.18797142e-01,  1.38380017e+00,  2.06940669e+00,\n",
       "        1.08784953e+00,  3.70996290e+00,  2.45654120e+00,  2.38171665e+00,\n",
       "        2.68556559e+00,  4.94365055e-01,  2.37373129e+00,  2.11833841e+00,\n",
       "        1.17148422e-01,  2.85892860e+00,  3.18782197e+00,  2.31138997e+00,\n",
       "        1.61201572e+00,  2.41304997e+00,  1.78680881e+00,  2.46707015e+00,\n",
       "        1.28081075e+00,  2.06529781e+00,  3.36848772e-01,  3.17660111e+00,\n",
       "        1.26844664e+00,  3.09952146e+00,  1.05868559e+00,  1.89449007e+00,\n",
       "       -2.21153875e-01,  2.72705546e+00,  2.66038756e-01,  2.36490290e+00,\n",
       "        2.83566569e+00,  1.43925458e+00, -5.26152495e-02,  2.87362635e-01,\n",
       "        5.46557764e-01, -4.21282330e-01, -3.41100176e-01, -1.76433041e-01,\n",
       "        2.73723005e+00,  2.24878887e+00,  2.33426369e+00,  1.42338901e+00,\n",
       "        1.91061938e+00,  2.49600293e-01,  3.24196297e+00,  1.90478409e+00,\n",
       "        2.01029593e+00,  1.18393614e+00, -2.74581898e+00,  2.73601680e+00,\n",
       "        1.69521696e+00, -7.20738925e-02,  2.51396065e+00,  3.43665605e+00,\n",
       "        1.89848807e+00,  2.80301021e+00,  1.73061112e+00,  2.46015495e+00,\n",
       "        1.94668301e+00, -3.75022336e-01,  1.23033709e+00,  2.18621060e+00,\n",
       "        4.58686192e-01,  2.96662968e+00,  1.14241974e+00,  3.04731349e+00,\n",
       "        3.18617639e+00,  1.68724047e+00,  3.09009120e+00,  2.34656867e+00,\n",
       "        4.72410628e+00,  2.43765787e+00,  2.65755700e-01,  1.80283367e+00,\n",
       "        1.01285965e+00,  1.18946013e+00,  9.57962003e-01,  8.57699324e-01,\n",
       "        2.64093245e+00,  3.79552880e+00,  2.96208542e+00,  2.77668830e+00,\n",
       "        2.62602026e+00,  4.35858674e+00,  3.74967858e+00,  3.20448176e+00,\n",
       "        1.16713998e+00,  3.63491374e+00,  3.54524398e+00,  1.40760041e+00,\n",
       "        1.26812762e+00,  4.17007891e-01,  1.49199013e+00,  2.37091653e+00,\n",
       "        2.52353091e+00,  3.54484835e-01,  1.61330888e+00,  2.55382364e+00,\n",
       "        1.24402469e+00,  1.68035895e+00, -1.82603924e+00,  4.63751393e-01,\n",
       "        1.36723017e-01,  1.65240933e+00,  1.78326218e+00,  6.86208374e-01,\n",
       "        1.80729248e+00,  2.38696590e+00,  2.77042726e+00,  4.31638867e-01,\n",
       "        1.23570731e+00,  3.26901044e-01,  1.38668279e-01,  4.62228041e+00,\n",
       "        1.15056164e+00,  4.34888101e+00,  2.55776910e+00,  6.15349720e-01,\n",
       "        1.13837771e+00,  8.90589363e-01,  8.59050476e-01,  2.61934253e+00,\n",
       "        5.78892637e-02,  1.12259772e-01,  8.10427382e-01,  8.22763445e-01,\n",
       "        4.43447884e-01,  1.17973548e+00,  2.57340081e+00,  3.15687784e+00,\n",
       "        1.23803060e+00,  2.74883829e+00,  1.92915601e+00,  2.73871188e+00,\n",
       "        2.72821808e+00,  1.60176195e+00,  1.85415109e+00,  2.21794583e+00,\n",
       "        1.59604601e+00,  2.32024925e+00,  3.74088713e+00,  1.17725097e+00,\n",
       "        3.14107336e+00,  1.85156863e+00,  2.23859355e+00,  2.59047480e+00,\n",
       "        3.28891340e+00,  1.05447554e+00, -1.85930121e+00,  1.08272531e+00,\n",
       "        1.47017106e+00,  2.92520449e-01,  2.89497844e+00, -1.06468634e+00,\n",
       "        2.56532543e+00,  2.63284952e+00,  3.28199603e+00,  2.23353093e+00,\n",
       "        1.78802409e+00,  2.74206791e+00,  2.33323424e+00,  2.08644132e+00,\n",
       "        4.02258025e+00,  3.74000410e+00,  3.56096690e-01,  1.79473345e+00,\n",
       "        1.65352018e+00,  7.21884426e-01,  3.06305150e+00,  2.47678970e+00,\n",
       "        3.71610248e+00, -1.32579027e+00,  2.20662644e+00, -6.74915738e-01,\n",
       "       -4.65061046e-02,  8.26822370e-01,  2.95403564e+00,  2.76167304e+00,\n",
       "        3.01886675e+00,  2.79922065e+00,  1.04777784e-01,  1.22249690e+00,\n",
       "        2.28606725e+00,  4.74112417e-01,  3.11333079e+00,  1.81933654e+00,\n",
       "        2.62872206e+00,  7.64997447e-01,  2.08247254e+00,  4.35554634e-01,\n",
       "        1.59115906e+00,  2.05561087e+00,  1.56973652e+00,  1.41476632e+00,\n",
       "       -7.16548398e-01,  1.31403181e+00,  7.08320882e-01,  3.94510932e-01,\n",
       "       -7.59749355e-01,  2.83563555e+00,  1.41591775e+00, -3.09021444e-02,\n",
       "        1.86683799e+00,  1.26125867e+00,  1.64604760e+00,  1.03711959e+00,\n",
       "        1.76022470e+00,  9.71536297e-01,  1.13808741e+00,  2.57873726e+00,\n",
       "        9.19475813e-01,  2.46915104e+00,  1.86020957e+00,  3.73324035e+00,\n",
       "        2.74943765e+00,  2.60545811e+00,  1.45668572e+00,  1.76982994e+00,\n",
       "        2.28671005e+00,  6.88422077e-01,  2.91836038e+00,  3.78123244e-01,\n",
       "        1.16420043e+00, -1.51236109e-01, -7.75452167e-01,  1.32801550e+00,\n",
       "        3.02910726e+00,  1.97885670e+00,  2.19535672e+00,  1.62495042e+00,\n",
       "        2.90576138e+00, -4.38655842e-01,  3.23125064e+00,  1.47430218e+00,\n",
       "        4.22913877e-01,  3.40508416e+00,  2.08593244e+00,  2.43021277e+00,\n",
       "        1.03681623e+00,  2.17379807e+00,  6.42795422e-01, -6.54859262e-01,\n",
       "       -1.92798833e+00,  2.77094119e+00,  2.97091017e+00,  1.68296738e+00,\n",
       "        7.85258843e-01,  3.56799050e+00,  2.10644469e+00,  1.21576448e+00,\n",
       "        2.46188998e+00,  3.54412969e+00,  1.46310250e+00,  2.24707842e-01,\n",
       "        2.99740554e-01,  2.57097550e+00,  2.55721828e+00,  1.55183375e+00,\n",
       "        3.72112842e+00,  2.58435893e+00,  2.79644681e+00,  1.52487928e+00,\n",
       "        6.82275140e-01,  3.07483208e-01,  2.19643372e+00,  1.62123649e+00,\n",
       "        2.43442617e+00,  1.02239336e+00,  2.40118792e+00,  1.21331316e+00,\n",
       "        6.93106835e-01,  1.12823623e+00,  1.84820424e+00,  2.26874794e+00,\n",
       "        2.60837843e+00,  3.37525997e+00,  2.11163934e+00,  2.17212498e+00,\n",
       "        2.17203958e+00,  2.90545818e+00,  8.18013301e-01,  2.97897735e+00,\n",
       "        1.36905738e+00,  1.53124112e+00,  1.26512000e+00,  1.84668412e+00,\n",
       "       -5.97441207e-01,  3.74130169e-01,  3.80521922e+00, -5.17759357e-01,\n",
       "        1.84055625e+00,  6.48022194e-01,  2.16282181e+00,  2.00001041e+00])"
      ]
     },
     "execution_count": 125,
     "metadata": {},
     "output_type": "execute_result"
    }
   ],
   "source": [
    "r_values[0]"
   ]
  },
  {
   "cell_type": "code",
   "execution_count": 124,
   "id": "46c2d864-86a5-4bd0-9bbe-ecc050107a8c",
   "metadata": {},
   "outputs": [
    {
     "data": {
      "text/plain": [
       "1.4295966566402276"
      ]
     },
     "execution_count": 124,
     "metadata": {},
     "output_type": "execute_result"
    }
   ],
   "source": [
    "np.mean(r_values[:][0])"
   ]
  },
  {
   "cell_type": "code",
   "execution_count": 102,
   "id": "bbc00a62-6b10-47cc-a0a2-aafd1484f1d9",
   "metadata": {},
   "outputs": [
    {
     "data": {
      "text/plain": [
       "1.8452209027225173"
      ]
     },
     "execution_count": 102,
     "metadata": {},
     "output_type": "execute_result"
    }
   ],
   "source": [
    "np.mean(r_values[:][0])"
   ]
  },
  {
   "cell_type": "code",
   "execution_count": 133,
   "id": "adecf1e4-e11b-4f5b-b8e1-fcdcffd929ea",
   "metadata": {},
   "outputs": [],
   "source": [
    "avg_rewards = [0]\n",
    "for step in range(n_steps):\n",
    "    mean = np.mean(r_values[:][step])\n",
    "    avg_rewards.append(mean)"
   ]
  },
  {
   "cell_type": "code",
   "execution_count": 104,
   "id": "a33bc11c-ec70-4817-bd79-9614cbbd2a9f",
   "metadata": {},
   "outputs": [
    {
     "data": {
      "text/plain": [
       "1000"
      ]
     },
     "execution_count": 104,
     "metadata": {},
     "output_type": "execute_result"
    }
   ],
   "source": [
    "len(avg_rewards)"
   ]
  },
  {
   "cell_type": "code",
   "execution_count": 105,
   "id": "5f1f8ca3-4807-4716-877a-b9d0a79fa812",
   "metadata": {},
   "outputs": [
    {
     "data": {
      "text/plain": [
       "1845.2209027225165"
      ]
     },
     "execution_count": 105,
     "metadata": {},
     "output_type": "execute_result"
    }
   ],
   "source": [
    "sum(r_values[:][0])"
   ]
  },
  {
   "cell_type": "code",
   "execution_count": 132,
   "id": "a31efb7d-8e97-4388-b164-493e6c67b8c6",
   "metadata": {
    "scrolled": true
   },
   "outputs": [
    {
     "data": {
      "text/plain": [
       "[1.4375413352199025,\n",
       " 1.541941975963755,\n",
       " 1.4458871173670005,\n",
       " 1.2751391693080618,\n",
       " 1.4913065734081996,\n",
       " 1.547828975381393,\n",
       " 1.3913188059411525,\n",
       " 1.516807613134138,\n",
       " 1.3563944543187008,\n",
       " 1.5036403314794269,\n",
       " 1.5028175888292539,\n",
       " 1.5182248137748204,\n",
       " 1.2397702000944213,\n",
       " 1.252598567339227,\n",
       " 1.4615771178829249,\n",
       " 1.51585549623812,\n",
       " 1.1869889442265755,\n",
       " 1.4313464604877255,\n",
       " 1.4707559823509624,\n",
       " 1.3436248909038373,\n",
       " 1.2725116657604725,\n",
       " 1.5277408822321012,\n",
       " 1.405111126979417,\n",
       " 1.5499651021044416,\n",
       " 1.4524651869266751,\n",
       " 1.5489054698708364,\n",
       " 1.527770543875824,\n",
       " 1.3247108378245822,\n",
       " 1.496307902703797,\n",
       " 1.291092032818766,\n",
       " 1.4440793783133603,\n",
       " 1.5021448915319684,\n",
       " 1.494603777035453,\n",
       " 1.3986675577814918,\n",
       " 1.4605499553001238,\n",
       " 1.51314165370509,\n",
       " 1.3811653364295962,\n",
       " 1.5084577997511581,\n",
       " 1.2309672560672205,\n",
       " 1.4728749651880317,\n",
       " 1.462304481884944,\n",
       " 1.3451096248006775,\n",
       " 1.3008883338834483,\n",
       " 1.46626136053193,\n",
       " 1.5070788075146244,\n",
       " 1.4282855839172022,\n",
       " 1.486607905991166,\n",
       " 1.5303384707842207,\n",
       " 1.4923940975913443,\n",
       " 1.17515467893535,\n",
       " 1.3936619012789555,\n",
       " 1.4587955587432477,\n",
       " 1.4341417548964197,\n",
       " 1.0994810569067137,\n",
       " 1.4959413075237091,\n",
       " 1.5269198203542744,\n",
       " 1.2899777313011007,\n",
       " 1.5014594094619322,\n",
       " 1.457236342961541,\n",
       " 1.4884883895777843,\n",
       " 1.5269375277172552,\n",
       " 1.4636776895544283,\n",
       " 1.203060211838502,\n",
       " 1.5540130542916635,\n",
       " 1.355497010177448,\n",
       " 1.4582255247729576,\n",
       " 1.5073247917706711,\n",
       " 1.4507196118969863,\n",
       " 1.4433219820747687,\n",
       " 1.323202229909491,\n",
       " 1.4922266016196601,\n",
       " 1.2293088849500646,\n",
       " 1.520093935040529,\n",
       " 1.4536151401457478,\n",
       " 1.312755723339944,\n",
       " 1.262031683297479,\n",
       " 1.3198428896857262,\n",
       " 1.5075936064773712,\n",
       " 1.5197113029161107,\n",
       " 1.2993734782247044,\n",
       " 1.5271669831678905,\n",
       " 1.5120083834770326,\n",
       " 1.465214471815665,\n",
       " 1.4324755994209493,\n",
       " 1.4487780654986,\n",
       " 1.3692901895238616,\n",
       " 1.4828560530796577,\n",
       " 1.5283358442609498,\n",
       " 1.2825602690369526,\n",
       " 1.419125893341054,\n",
       " 1.418117633867356,\n",
       " 1.5615892383012555,\n",
       " 1.2846303266749255,\n",
       " 1.2800982013237547,\n",
       " 1.4592676314585034,\n",
       " 1.4643430114736486,\n",
       " 1.4084381767063794,\n",
       " 1.0226906933048723,\n",
       " 1.4161671142684158,\n",
       " 1.3403948736678057,\n",
       " 1.4952309615552717,\n",
       " 1.546161057697252,\n",
       " 1.4902022444253515,\n",
       " 1.2100719652675413,\n",
       " 1.2294013354458073,\n",
       " 1.5004287980277362,\n",
       " 1.5358729704365448,\n",
       " 1.5133588920217826,\n",
       " 1.4527684951159203,\n",
       " 1.5059042863966954,\n",
       " 1.3354686049231035,\n",
       " 1.4420181048499605,\n",
       " 1.523679123828716,\n",
       " 1.448599774668969,\n",
       " 1.4692873559684871,\n",
       " 1.4781481728021424,\n",
       " 1.5002476195845207,\n",
       " 1.5423448195249194,\n",
       " 1.5159953969045814,\n",
       " 1.506506103016513,\n",
       " 1.438468369236431,\n",
       " 1.4169753861088665,\n",
       " 1.4840621618293728,\n",
       " 1.3874482773459353,\n",
       " 1.473038562790821,\n",
       " 1.493988218337077,\n",
       " 1.3132808483276135,\n",
       " 1.418889447433353,\n",
       " 1.3892554268505697,\n",
       " 1.4701781341344509,\n",
       " 1.4423432123218376,\n",
       " 1.542308082406506,\n",
       " 1.4294937108062338,\n",
       " 1.4732017189436337,\n",
       " 1.483476075156573,\n",
       " 1.4888700071558698,\n",
       " 1.3406821085918637,\n",
       " 1.209436488049899,\n",
       " 1.4675805695434354,\n",
       " 1.4284105626819217,\n",
       " 1.5076850055579267,\n",
       " 1.5414453397487038,\n",
       " 1.2870963168363125,\n",
       " 1.2738690068054794,\n",
       " 1.4956585290619593,\n",
       " 1.4851799871843114,\n",
       " 1.3302761480212142,\n",
       " 1.3298175411419182,\n",
       " 1.413002151174634,\n",
       " 1.3537114981701832,\n",
       " 1.3544922510693669,\n",
       " 1.2300223992233872,\n",
       " 1.4871599396078476,\n",
       " 1.4909958796773364,\n",
       " 1.4377035703080376,\n",
       " 1.452831782800068,\n",
       " 1.5305102093372078,\n",
       " 1.4672012341812408,\n",
       " 1.2822077755375705,\n",
       " 1.524585772312424,\n",
       " 1.524851332377054,\n",
       " 1.4694529825109135,\n",
       " 1.3760143345109317,\n",
       " 1.262351497777709,\n",
       " 1.2508532932144,\n",
       " 1.4077606562147253,\n",
       " 1.4393072093661357,\n",
       " 1.4536640438319481,\n",
       " 1.4015986817167145,\n",
       " 1.3911736573284081,\n",
       " 1.233307409239543,\n",
       " 1.3707339183544835,\n",
       " 1.2758880752044475,\n",
       " 1.3594091076945503,\n",
       " 1.403479227299771,\n",
       " 1.278997715512712,\n",
       " 1.2866549733040604,\n",
       " 1.4984175855848674,\n",
       " 1.439262443360578,\n",
       " 1.5216700935349525,\n",
       " 1.5075904183035236,\n",
       " 1.5992021777061123,\n",
       " 1.3156617414596146,\n",
       " 1.4061589944824633,\n",
       " 1.5393483759253277,\n",
       " 1.1040190463765436,\n",
       " 1.3128800765128952,\n",
       " 1.4661490247118512,\n",
       " 1.482269494288521,\n",
       " 1.4791806187179457,\n",
       " 1.2458868407160448,\n",
       " 1.421560571755792,\n",
       " 1.4571759057719458,\n",
       " 1.5413506975218756,\n",
       " 1.5287613914472957,\n",
       " 1.307405219831331,\n",
       " 1.4931645435690817,\n",
       " 1.1649314856432376,\n",
       " 1.4728771578995719,\n",
       " 1.2738860153474003,\n",
       " 1.3318064850369884,\n",
       " 1.4734414941730865,\n",
       " 1.4504729267203864,\n",
       " 1.5350177713870585,\n",
       " 1.430969442732606,\n",
       " 1.5363782164234778,\n",
       " 1.4145228023537806,\n",
       " 1.438215453980194,\n",
       " 1.3360828148364186,\n",
       " 1.1434824977784033,\n",
       " 1.4953171358382595,\n",
       " 1.386960021894623,\n",
       " 1.4482100854508657,\n",
       " 1.3797354738787508,\n",
       " 1.3224657690621837,\n",
       " 1.4906191802502426,\n",
       " 1.4960262062009717,\n",
       " 1.331858876512375,\n",
       " 1.4662154343681373,\n",
       " 1.4342321855853524,\n",
       " 1.506443179289261,\n",
       " 1.4395845004202452,\n",
       " 1.2937403469300754,\n",
       " 1.4148585162414364,\n",
       " 1.4626088209110601,\n",
       " 1.5296693997591635,\n",
       " 1.4927806812468771,\n",
       " 1.5518933951035914,\n",
       " 1.2375690221305413,\n",
       " 1.476662328415578,\n",
       " 1.4579286982084727,\n",
       " 1.5065480819751593,\n",
       " 1.49072670249941,\n",
       " 1.4612971871663902,\n",
       " 1.4694560090528896,\n",
       " 1.4370169401568123,\n",
       " 1.4641638853430872,\n",
       " 1.3112703262555327,\n",
       " 1.5298693111227968,\n",
       " 1.4894353522683494,\n",
       " 1.507953507091818,\n",
       " 1.1177068615990704,\n",
       " 1.470606044744282,\n",
       " 1.4216969618717583,\n",
       " 1.3523666309275386,\n",
       " 1.3892872839762045,\n",
       " 1.4229145577207185,\n",
       " 1.537100768479626,\n",
       " 1.4826219315976505,\n",
       " 1.5035843634023527,\n",
       " 1.4974427381049984,\n",
       " 1.4840798197058613,\n",
       " 1.5288798534063213,\n",
       " 1.4648812643336613,\n",
       " 1.412766868396138,\n",
       " 1.17321047440932,\n",
       " 1.4868847064761912,\n",
       " 1.4608168552773795,\n",
       " 1.4545107380355424,\n",
       " 1.1076236581546157,\n",
       " 1.4614747710970577,\n",
       " 1.4850426396172822,\n",
       " 1.3785648769055252,\n",
       " 1.2883305616700391,\n",
       " 1.5262352857505956,\n",
       " 1.418095333349827,\n",
       " 1.5294273239585823,\n",
       " 1.4514875561926872,\n",
       " 1.2801469216161099,\n",
       " 1.4965661258052674,\n",
       " 1.4807722007898438,\n",
       " 1.517518215341181,\n",
       " 1.5471159046832645,\n",
       " 1.465142136427631,\n",
       " 1.4481572896048556,\n",
       " 1.464165972287458,\n",
       " 1.3971406188777975,\n",
       " 1.4846761160577209,\n",
       " 1.4941258298348041,\n",
       " 1.5450221599298963,\n",
       " 1.2574819840121527,\n",
       " 1.5341673337058486,\n",
       " 1.2263886340784678,\n",
       " 1.3529975808599808,\n",
       " 1.527925376149542,\n",
       " 1.2769880407082914,\n",
       " 1.4563270784125912,\n",
       " 1.4746551532662933,\n",
       " 1.4167716017771028,\n",
       " 1.411794286602334,\n",
       " 1.438937312172911,\n",
       " 1.4625607829514666,\n",
       " 1.3386259153219513,\n",
       " 1.408729378154684,\n",
       " 1.15740914955496,\n",
       " 1.5254203148747425,\n",
       " 1.3994969327146798,\n",
       " 1.3050470919036237,\n",
       " 1.535176083315931,\n",
       " 1.4120441993068218,\n",
       " 1.2067647073898131,\n",
       " 1.3080884728371196,\n",
       " 1.3864560216589745,\n",
       " 1.5379937245104467,\n",
       " 1.5137998549288814,\n",
       " 1.488625065641518,\n",
       " 1.1745279791598873,\n",
       " 1.2568898910721453,\n",
       " 1.506635510348875,\n",
       " 1.2740971697033756,\n",
       " 1.4955593011678796,\n",
       " 1.2838459562836178,\n",
       " 1.461129023396059,\n",
       " 1.3531389773526306,\n",
       " 1.4252011140332594,\n",
       " 1.322802684115515,\n",
       " 1.4106720171345386,\n",
       " 1.5424931608289165,\n",
       " 1.4983005700230616,\n",
       " 1.4256768508075925,\n",
       " 1.498721704381458,\n",
       " 1.5544561394307308,\n",
       " 1.46690838559351,\n",
       " 1.4471602946818862,\n",
       " 1.548586711609044,\n",
       " 1.3076656824850765,\n",
       " 1.5092074945822707,\n",
       " 1.234337179337324,\n",
       " 1.2660497753302595,\n",
       " 1.500718720658701,\n",
       " 1.5140213150516728,\n",
       " 1.4702890499910384,\n",
       " 1.439104257686144,\n",
       " 1.5520501382574448,\n",
       " 1.3310837346269901,\n",
       " 1.5290719305806348,\n",
       " 1.4315393800142848,\n",
       " 1.524022787316623,\n",
       " 1.50736856452928,\n",
       " 1.311785013647602,\n",
       " 1.2695228226524644,\n",
       " 1.4556115537592782,\n",
       " 1.4676884901445815,\n",
       " 1.4226818036986,\n",
       " 1.4853121890194565,\n",
       " 1.4852019712850635,\n",
       " 1.4731585815562727,\n",
       " 1.2504546518448558,\n",
       " 1.170804951277254,\n",
       " 1.5405180382894332,\n",
       " 1.3892157414571398,\n",
       " 1.429859369349881,\n",
       " 1.2897035501489473,\n",
       " 1.4173069180362226,\n",
       " 1.26224756126934,\n",
       " 1.4936057872202935,\n",
       " 1.2858454692170556,\n",
       " 1.4244467436353756,\n",
       " 1.4437823330990553,\n",
       " 1.479667806361299,\n",
       " 1.4176299991134955,\n",
       " 1.444082506129478,\n",
       " 1.5034254188539815,\n",
       " 1.4798093197543833,\n",
       " 0.9849804719633334,\n",
       " 1.2763543364153462,\n",
       " 1.2573848392907625,\n",
       " 1.3728479821518536,\n",
       " 1.5235344200014913,\n",
       " 1.5266997334294754,\n",
       " 1.3635766691343993,\n",
       " 1.3808641230948404,\n",
       " 1.451660574053557,\n",
       " 1.5073637170170664,\n",
       " 1.447884242270199,\n",
       " 1.3253199654007701,\n",
       " 1.4113632366296207,\n",
       " 1.4081161527880262,\n",
       " 1.4740066823622802,\n",
       " 1.5038196741155665,\n",
       " 1.4565586114580127,\n",
       " 1.4560575995505707,\n",
       " 1.2924765590979916,\n",
       " 1.5323290880943867,\n",
       " 1.5005818209328705,\n",
       " 1.3042989842232402,\n",
       " 1.420129815358833,\n",
       " 1.49503024493641,\n",
       " 1.5001342150761277,\n",
       " 1.4341896013542266,\n",
       " 1.4601080746798836,\n",
       " 1.4804375282685733,\n",
       " 1.448015878962666,\n",
       " 1.4551891454438446,\n",
       " 1.485870114158444,\n",
       " 1.2488405734481636,\n",
       " 1.297438486352961,\n",
       " 1.3564763055744131,\n",
       " 1.41171852327205,\n",
       " 1.4803326589316326,\n",
       " 1.2088350314655834,\n",
       " 1.3943506371179637,\n",
       " 1.2148170739876403,\n",
       " 1.4294495052203637,\n",
       " 1.4228593682865558,\n",
       " 1.5338121430849165,\n",
       " 1.5115746830018035,\n",
       " 1.4465468641841408,\n",
       " 1.4469052000144789,\n",
       " 1.4655164789179667,\n",
       " 1.4890669286133824,\n",
       " 1.4638678186580432,\n",
       " 1.4934555778170122,\n",
       " 1.3836261811174968,\n",
       " 1.515804447357519,\n",
       " 1.4322725323722802,\n",
       " 1.3667871943424108,\n",
       " 1.53705423294821,\n",
       " 1.4068187387292919,\n",
       " 1.4706337586244058,\n",
       " 1.464865327535965,\n",
       " 1.5232455430938812,\n",
       " 1.3512039056025442,\n",
       " 1.4442930207460898,\n",
       " 1.2590272051574771,\n",
       " 1.5118422850843047,\n",
       " 1.4487920891601171,\n",
       " 1.418116247257308,\n",
       " 1.487553536146392,\n",
       " 1.2596639215363143,\n",
       " 1.2635508762782393,\n",
       " 1.5103553144550068,\n",
       " 1.4471496847879417,\n",
       " 1.5112594026986332,\n",
       " 1.430661772393409,\n",
       " 1.4867582783854767,\n",
       " 1.3528139372511354,\n",
       " 1.5199241957669425,\n",
       " 1.442506565646315,\n",
       " 1.5109160952960394,\n",
       " 1.5037550302618055,\n",
       " 1.4714859433910201,\n",
       " 1.4186262051587357,\n",
       " 1.4709455649618393,\n",
       " 1.404806776507338,\n",
       " 1.469458648766786,\n",
       " 1.3901370962002766,\n",
       " 1.2054610784720508,\n",
       " 1.5233636332030451,\n",
       " 1.3031172142289946,\n",
       " 1.4745453012303074,\n",
       " 1.3708370886941608,\n",
       " 1.2153556855486327,\n",
       " 1.322082631203502,\n",
       " 1.5291359323792801,\n",
       " 1.4649149497449823,\n",
       " 1.47923793966976,\n",
       " 1.363634435032648,\n",
       " 1.3309958764624403,\n",
       " 1.534900012133248,\n",
       " 1.5148051463072196,\n",
       " 1.5128925175258865,\n",
       " 1.2903260799837202,\n",
       " 1.4841712685026212,\n",
       " 1.479118179582706,\n",
       " 1.3630389907258817,\n",
       " 1.451083936404672,\n",
       " 1.54523623039518,\n",
       " 1.3891457936725708,\n",
       " 1.3986685580130656,\n",
       " 1.2290157163809619,\n",
       " 1.4357781741420712,\n",
       " 1.22461885249237,\n",
       " 1.2956847589616522,\n",
       " 1.4986156013172214,\n",
       " 1.5481993484597925,\n",
       " 1.4255456134261686,\n",
       " 1.5013118693762644,\n",
       " 1.4837789921453337,\n",
       " 1.4757548435961598,\n",
       " 1.494372185447058,\n",
       " 1.4941961651487983,\n",
       " 1.5260142103332188,\n",
       " 1.2560127592601675,\n",
       " 1.4088917359888224,\n",
       " 1.4642019577079053,\n",
       " 1.2386006070527409,\n",
       " 1.433670609018403,\n",
       " 1.5227153299688705,\n",
       " 1.4830149540253716,\n",
       " 1.5114311138956906,\n",
       " 1.4180577944436983,\n",
       " 1.2916315921539034,\n",
       " 1.478628445705741,\n",
       " 1.4726163372020362,\n",
       " 1.397380118840041,\n",
       " 1.3958741701004378,\n",
       " 1.4751285160200414,\n",
       " 1.110516477886997,\n",
       " 1.2755117830237883,\n",
       " 1.3624661850573674,\n",
       " 1.2635572102333097,\n",
       " 1.4591645729992508,\n",
       " 1.5229618608086666,\n",
       " 1.3831623679257308,\n",
       " 1.3732623392854737,\n",
       " 1.5466470157923906,\n",
       " 1.485880999591173,\n",
       " 1.4428017814077627,\n",
       " 1.4798328309873512,\n",
       " 1.541115633985245,\n",
       " 1.2624642430298594,\n",
       " 1.3464164754194523,\n",
       " 1.44584721340722,\n",
       " 1.3981999602951514,\n",
       " 1.2189591556004165,\n",
       " 1.4365536324953827,\n",
       " 1.5155017762592038,\n",
       " 1.4942311662944858,\n",
       " 1.4438337994583021,\n",
       " 1.5300469858739953,\n",
       " 1.2760857711442661,\n",
       " 1.3577911714604323,\n",
       " 1.2847516471312652,\n",
       " 1.4294709560284329,\n",
       " 1.512258338851858,\n",
       " 1.3027083617209436,\n",
       " 1.4779739974204118,\n",
       " 1.4738089308006534,\n",
       " 1.380968223108703,\n",
       " 1.4109246225436336,\n",
       " 1.2570099077094865,\n",
       " 1.4894710530270745,\n",
       " 1.3953439295119725,\n",
       " 1.4376744195420361,\n",
       " 1.4895956576513056,\n",
       " 1.327576416627224,\n",
       " 1.4010503453906988,\n",
       " 1.4187623470691488,\n",
       " 1.4804830605604842,\n",
       " 1.406792545643742,\n",
       " 1.459748341533122,\n",
       " 1.5283138316829714,\n",
       " 1.465572009615395,\n",
       " 1.2537606265267183,\n",
       " 1.538581062802537,\n",
       " 1.4274551616036177,\n",
       " 1.4736441233284951,\n",
       " 1.520559148042005,\n",
       " 1.2568417787837616,\n",
       " 1.5560612967611132,\n",
       " 1.3391337105846777,\n",
       " 1.5480368328852694,\n",
       " 1.3256390840213579,\n",
       " 1.502189518979344,\n",
       " 1.2881529481720977,\n",
       " 1.4191840918032395,\n",
       " 1.4934849450271293,\n",
       " 1.5312229857442543,\n",
       " 1.4492871143216266,\n",
       " 1.4300072388875293,\n",
       " 1.4990884890597773,\n",
       " 1.5204435155019511,\n",
       " 1.5176491167927637,\n",
       " 1.4781339411497108,\n",
       " 1.5631264379212806,\n",
       " 1.2762898437141674,\n",
       " 1.4633646357276495,\n",
       " 1.3964535426072833,\n",
       " 1.5505353924499259,\n",
       " 1.4852898400668912,\n",
       " 1.468582927575947,\n",
       " 1.3407668111358553,\n",
       " 1.4150993296202055,\n",
       " 1.4828913599209452,\n",
       " 1.2244402816507063,\n",
       " 1.2332341212377265,\n",
       " 1.4590410111501841,\n",
       " 1.471183447396354,\n",
       " 1.4375044050281465,\n",
       " 1.5630072614631894,\n",
       " 1.2704186633990728,\n",
       " 1.4923744531847725,\n",
       " 1.4670554545900907,\n",
       " 1.5241622062350937,\n",
       " 1.4544196289488187,\n",
       " 1.3481245499012424,\n",
       " 1.4918484755536061,\n",
       " 1.5254086590184692,\n",
       " 1.485238369823171,\n",
       " 1.3819455026185812,\n",
       " 1.4495215620863755,\n",
       " 1.324234360471283,\n",
       " 1.498630359835083,\n",
       " 1.5235987555624184,\n",
       " 1.4999617157617875,\n",
       " 1.344485112280678,\n",
       " 1.2644457718744266,\n",
       " 1.337853055422923,\n",
       " 1.3164251044725526,\n",
       " 1.2902782464717735,\n",
       " 1.5268336076993003,\n",
       " 1.2962065675945216,\n",
       " 1.20584195795821,\n",
       " 1.2294301522832154,\n",
       " 1.4800296657189334,\n",
       " 1.3826649755612228,\n",
       " 1.4673048483526567,\n",
       " 1.4628580468342216,\n",
       " 1.4572030932668556,\n",
       " 0.9699668513068632,\n",
       " 1.461419457865372,\n",
       " 1.4514957662015884,\n",
       " 1.4905890558288346,\n",
       " 1.4051791914167497,\n",
       " 1.4911686005515272,\n",
       " 1.4087660477960067,\n",
       " 1.405155097280414,\n",
       " 1.5261280282652738,\n",
       " 1.4781148980191694,\n",
       " 1.314368397886744,\n",
       " 1.2386826998224776,\n",
       " 1.4308412722153185,\n",
       " 1.2710759517003285,\n",
       " 1.5084543667750976,\n",
       " 1.229230800468477,\n",
       " 1.4607165594043339,\n",
       " 1.457940830070069,\n",
       " 1.409939436736603,\n",
       " 1.5127318129133152,\n",
       " 1.3226526863259918,\n",
       " 1.5010586028928632,\n",
       " 1.4920672742762133,\n",
       " 1.5066253232842406,\n",
       " 1.5707926236609626,\n",
       " 1.3801706400045517,\n",
       " 1.2529548450611283,\n",
       " 1.4628874343232765,\n",
       " 1.5310498111472912,\n",
       " 1.3718453476881032,\n",
       " 1.5209290035606668,\n",
       " 1.4151733680689034,\n",
       " 1.3340095936538867,\n",
       " 1.3335545780595663,\n",
       " 1.492747515126983,\n",
       " 1.4485596204539397,\n",
       " 1.4788981972961415,\n",
       " 1.3967700522195248,\n",
       " 1.5060970458283662,\n",
       " 1.5515289432580006,\n",
       " 1.4836557017857759,\n",
       " 1.4899908933993613,\n",
       " 1.5027256348275302,\n",
       " 1.3460764393503946,\n",
       " 1.5374181999464611,\n",
       " 1.4478050141595968,\n",
       " 1.4433516621208893,\n",
       " 1.4959519341047716,\n",
       " 1.4928682768892039,\n",
       " 1.4490872996024042,\n",
       " 1.492605657263738,\n",
       " 1.5016181329394538,\n",
       " 1.358327473802707,\n",
       " 1.5242786715971648,\n",
       " 1.1857997084413492,\n",
       " 1.468736288662766,\n",
       " 1.5125529364006205,\n",
       " 1.271901920124569,\n",
       " 1.3759663085464067,\n",
       " 1.5400088101456857,\n",
       " 1.5186192450206804,\n",
       " 1.3816658631274108,\n",
       " 1.4755377905208038,\n",
       " 1.3451682771011668,\n",
       " 1.5605602529503704,\n",
       " 1.5042007074286647,\n",
       " 1.5234509232410662,\n",
       " 1.4210146723096524,\n",
       " 1.5079446504237308,\n",
       " 1.247694235141007,\n",
       " 1.4501802498497596,\n",
       " 1.458151982850978,\n",
       " 1.2606037248272126,\n",
       " 1.50148008380235,\n",
       " 1.4981476828554317,\n",
       " 1.5122016986349343,\n",
       " 1.3687186301491312,\n",
       " 1.4561169576225201,\n",
       " 1.4437779172751182,\n",
       " 1.2961125057198821,\n",
       " 1.5029333874404232,\n",
       " 1.4271329288144938,\n",
       " 1.5048326332118767,\n",
       " 1.2074724734918738,\n",
       " 1.4856166286236365,\n",
       " 1.5041273165859688,\n",
       " 1.4916066131399002,\n",
       " 1.541688327527882,\n",
       " 1.4880331114199443,\n",
       " 1.3818761944461375,\n",
       " 1.4178561169123076,\n",
       " 1.3772686587160101,\n",
       " 1.4617494213278273,\n",
       " 1.2653897053929426,\n",
       " 1.4965696881623964,\n",
       " 1.5268020540374818,\n",
       " 1.293549271217706,\n",
       " 1.4112193057818219,\n",
       " 1.4971267403321786,\n",
       " 1.23862405437649,\n",
       " 1.4292475364545336,\n",
       " 1.3005456650733198,\n",
       " 1.4652086135727416,\n",
       " 1.5169507891340352,\n",
       " 1.506230993922806,\n",
       " 1.2538231831470963,\n",
       " 1.5003698660837432,\n",
       " 1.4398644010387578,\n",
       " 1.3003643748319298,\n",
       " 1.1676880843181168,\n",
       " 1.4992725186856437,\n",
       " 1.5206829437356122,\n",
       " 1.5348137802522055,\n",
       " 1.548215739446832,\n",
       " 1.4526078961168072,\n",
       " 1.5108740760965425,\n",
       " 1.4741311972348021,\n",
       " 1.352113753832275,\n",
       " 1.3903158222754275,\n",
       " 1.2826425815095628,\n",
       " 1.3011427757020524,\n",
       " 1.4289213583840021,\n",
       " 1.543706538901622,\n",
       " 1.3192477204297255,\n",
       " 1.4827327730434146,\n",
       " 1.449871538001287,\n",
       " 1.391008462215294,\n",
       " 1.3309352851073895,\n",
       " 1.4882239309275194,\n",
       " 1.4733127977653693,\n",
       " 1.1094560458327276,\n",
       " 1.4684546421181004,\n",
       " 1.3975575589143268,\n",
       " 1.4628847363554998,\n",
       " 1.3629549583477776,\n",
       " 1.4121310220387464,\n",
       " 1.5074470845290369,\n",
       " 1.465769618399588,\n",
       " 1.4388444058215508,\n",
       " 1.169373988368454,\n",
       " 1.2449077450638906,\n",
       " 1.4848054640297468,\n",
       " 1.416600517289825,\n",
       " 1.3381479386183974,\n",
       " 1.1379895451508213,\n",
       " 1.449940915481009,\n",
       " 1.455634618802961,\n",
       " 1.3718528637375418,\n",
       " 1.3384236417226754,\n",
       " 1.3681887485013509,\n",
       " 1.3270590917660294,\n",
       " 1.386158749706108,\n",
       " 1.223329494095157,\n",
       " 1.4172748221858311,\n",
       " 1.5850443108129972,\n",
       " 1.3961055757078242,\n",
       " 1.4614903806808386,\n",
       " 1.3114266665397858,\n",
       " 1.4268650287387348,\n",
       " 1.3305597917258225,\n",
       " 1.214242353518752,\n",
       " 1.3678307105352372,\n",
       " 1.317067850895327,\n",
       " 1.2463484624821097,\n",
       " 1.4516683291584256,\n",
       " 1.3020774721495854,\n",
       " 1.4699687694004484,\n",
       " 1.3981488176455936,\n",
       " 1.4205919246990395,\n",
       " 1.4052645981698304,\n",
       " 1.2316855216724476,\n",
       " 1.269452444112889,\n",
       " 1.411159069594431,\n",
       " 1.494119686191299,\n",
       " 1.4695067993966315,\n",
       " 1.56795596620062,\n",
       " 1.2894319145175277,\n",
       " 1.3753979238697136,\n",
       " 1.4982167108900695,\n",
       " 1.4886807266766313,\n",
       " 1.5085849878892026,\n",
       " 1.4876275761050286,\n",
       " 1.4786731193751277,\n",
       " 1.4185804322660842,\n",
       " 1.5060595636586736,\n",
       " 1.4282810289555907,\n",
       " 1.4709062547636464,\n",
       " 1.488464219280136,\n",
       " 1.4143901000492907,\n",
       " 1.4728103826352177,\n",
       " 1.306573280965362,\n",
       " 1.465132810083742,\n",
       " 1.5545325878375678,\n",
       " 1.2785332492396027,\n",
       " 1.4827510483043311,\n",
       " 1.506750104453434,\n",
       " 1.431347096611581,\n",
       " 1.4999902633705628,\n",
       " 1.429869351209843,\n",
       " 1.4188779055662148,\n",
       " 1.4705650181267755,\n",
       " 1.5125172477086186,\n",
       " 1.4926434910849502,\n",
       " 1.517188082967699,\n",
       " 1.4897463583240662,\n",
       " 1.410153798096038,\n",
       " 1.5282133811058687,\n",
       " 1.4576910106645158,\n",
       " 1.517707221246633,\n",
       " 1.4713988202913169,\n",
       " 1.494478385576493,\n",
       " 1.471506402867439,\n",
       " 1.381338441306501,\n",
       " 1.1771621494021183,\n",
       " 1.2063636389766066,\n",
       " 1.4798694725374995,\n",
       " 1.284227871237195,\n",
       " 1.4530675541049398,\n",
       " 1.4565043992503333,\n",
       " 1.2947553396430063,\n",
       " 1.444682275975413,\n",
       " 1.3937255387682532,\n",
       " 1.4301656144829054,\n",
       " 1.4268776310910547,\n",
       " 1.4979223061610896,\n",
       " 1.430419586963461,\n",
       " 1.4965757362853096,\n",
       " 1.486956889150142,\n",
       " 1.5939690269522984,\n",
       " 1.4868270911527057,\n",
       " 1.450066553636347,\n",
       " 1.4346522651748896,\n",
       " 1.3710075438540188,\n",
       " 1.440464054018248,\n",
       " 1.4625965591749852,\n",
       " 1.4036177986687615,\n",
       " 1.4450226820065384,\n",
       " 1.3841728682561911,\n",
       " 1.5098606876722669,\n",
       " 1.1774321564400103,\n",
       " 1.5527850507487346,\n",
       " 1.4166466062711311,\n",
       " 1.4855365067847863,\n",
       " 1.317737380117282,\n",
       " 1.5516605130213403,\n",
       " 1.4859812885144115,\n",
       " 1.4659881814791742,\n",
       " 1.4554425527586572,\n",
       " 1.3358444834290404,\n",
       " 1.361954579096014,\n",
       " 1.4944458714009163,\n",
       " 1.5162051825050615,\n",
       " 1.2649920401096848,\n",
       " 1.4941992611550696,\n",
       " 1.502487067057984,\n",
       " 1.5203675554958076,\n",
       " 1.534899946625633,\n",
       " 1.1654250298079987,\n",
       " 1.281773467333934,\n",
       " 1.479903491934036,\n",
       " 1.4886295771356404,\n",
       " 1.5267853046735897,\n",
       " 1.196641541877265,\n",
       " 1.28910700926454,\n",
       " 1.155883603496616,\n",
       " 1.5113085120365162,\n",
       " 1.421860699032687,\n",
       " 1.2827567211510977,\n",
       " 1.4868067865327568,\n",
       " 1.4475786077904305,\n",
       " 1.3673781680340917,\n",
       " 1.4654567420169058,\n",
       " 1.5269156566146436,\n",
       " 1.3751709082052348,\n",
       " 1.246749395666739,\n",
       " 1.2262994817337636,\n",
       " 1.3633782365687344,\n",
       " 1.4997313382636508,\n",
       " 1.4713569888621547,\n",
       " 1.4604110556702912,\n",
       " 1.4476361549728112,\n",
       " 1.5108696333437257,\n",
       " 1.4859696994818448,\n",
       " 1.476011906610494,\n",
       " 1.3208787545428688,\n",
       " 1.4419244186908198,\n",
       " 1.45834634156403,\n",
       " 1.443984896394851,\n",
       " 1.487637036990684,\n",
       " 1.5262382894752504,\n",
       " 1.5270190532392276,\n",
       " 1.489296064181673,\n",
       " 1.490713970877731,\n",
       " 1.4010882604986694,\n",
       " 1.506688127999707,\n",
       " 1.50949538579095,\n",
       " 1.4128597750087057,\n",
       " 1.4656055418391878,\n",
       " 1.465315891736675,\n",
       " 1.3492060026271777,\n",
       " 1.3021612340512079,\n",
       " 1.4045024884126092,\n",
       " 1.5214634367606181,\n",
       " 1.5244511042132867,\n",
       " 1.3440847036672066,\n",
       " 1.472588689662927,\n",
       " 1.2579296672206046,\n",
       " 1.5043457237294857,\n",
       " 1.4409274318584564,\n",
       " 1.4324427453896154,\n",
       " 1.5043041368041636,\n",
       " 1.541873341394764,\n",
       " 1.5351570517758624,\n",
       " 1.3548399162742744,\n",
       " 1.5478187473114902,\n",
       " 1.4451867903154791,\n",
       " 1.471012719081898,\n",
       " 1.5138857296835357,\n",
       " 1.440480324946632,\n",
       " 1.2880752619178866,\n",
       " 1.479028288828675,\n",
       " 1.4177174168720506,\n",
       " 1.536073761962418,\n",
       " 1.3595979547463537,\n",
       " 1.4979189030504831,\n",
       " 1.391558564350606,\n",
       " 1.4431119892191138,\n",
       " 1.1797066336627582,\n",
       " 1.4100922416601336,\n",
       " 1.518041538038032,\n",
       " 1.5373163003994612,\n",
       " 1.4503084318365151,\n",
       " 1.5168181365847595,\n",
       " 1.3158177744647164,\n",
       " 1.2297859633232573,\n",
       " 1.4498227717706937,\n",
       " 1.2300472864148366,\n",
       " 1.4631848257208342,\n",
       " 1.5236440399220756,\n",
       " 1.2638220123061938,\n",
       " 1.515548056430273,\n",
       " 1.5608739761615955,\n",
       " 1.470609294207109,\n",
       " 1.353844520686318,\n",
       " 1.4359740609258136,\n",
       " 1.329110744685878,\n",
       " 1.4390649195613705,\n",
       " 1.4419696751115345,\n",
       " 1.2484940622467837,\n",
       " 1.462054953270253,\n",
       " 1.4560183672127587,\n",
       " 1.5256656651604963,\n",
       " 1.5153315529240001,\n",
       " 1.510364554447242,\n",
       " 1.286680131883351,\n",
       " 1.518592866525676,\n",
       " 1.501974468695815,\n",
       " 1.43763131562513,\n",
       " 1.4078092386417724,\n",
       " 1.4253017745348957,\n",
       " 1.2640094701926126,\n",
       " 1.271969054636738,\n",
       " 1.5300588914253495,\n",
       " 1.4340721167932742,\n",
       " 1.3975156568509217,\n",
       " 1.3881485976777157,\n",
       " 1.2277851028263755,\n",
       " 1.2531437421174405,\n",
       " 1.514112839350493,\n",
       " 1.2465956588263232,\n",
       " 1.3491762295803649,\n",
       " 1.4647843323298355,\n",
       " 1.42502788608854,\n",
       " 1.4736783844103012,\n",
       " 1.205550356134599,\n",
       " 1.4845619915991493,\n",
       " 1.4181291755611438,\n",
       " 1.486460495694889,\n",
       " 1.487791740986142,\n",
       " 1.25396427210003,\n",
       " 1.4987179965433055,\n",
       " 1.324858439977257,\n",
       " 1.4783643133083808,\n",
       " 1.4623192631488537,\n",
       " 1.5079706729358258,\n",
       " 1.4748255563365948,\n",
       " 1.4906918119441113,\n",
       " 1.4816328095252675,\n",
       " 1.4394783054666895,\n",
       " 1.5124173527290083]"
      ]
     },
     "execution_count": 132,
     "metadata": {},
     "output_type": "execute_result"
    }
   ],
   "source": [
    "avg_rewards"
   ]
  },
  {
   "cell_type": "code",
   "execution_count": 9,
   "id": "94f26eee-0aca-4b9d-aa82-957d311a53cf",
   "metadata": {},
   "outputs": [],
   "source": [
    "import matplotlib.pyplot as plt"
   ]
  },
  {
   "cell_type": "code",
   "execution_count": 137,
   "id": "5e807744-ae55-47a6-b56b-444407af45ba",
   "metadata": {},
   "outputs": [
    {
     "data": {
      "text/plain": [
       "[<matplotlib.lines.Line2D at 0x321c8f680>]"
      ]
     },
     "execution_count": 137,
     "metadata": {},
     "output_type": "execute_result"
    },
    {
     "data": {
      "image/png": "[encoded data removed]",
      "text/plain": [
       "<Figure size 640x480 with 1 Axes>"
      ]
     },
     "metadata": {},
     "output_type": "display_data"
    }
   ],
   "source": [
    "plt.yticks(np.arange(0, 2, 0.5))\n",
    "plt.plot(avg_rewards)\n"
   ]
  },
  {
   "cell_type": "code",
   "execution_count": 150,
   "id": "7481c664-f5d1-4652-b378-778348da0818",
   "metadata": {},
   "outputs": [
    {
     "data": {
      "text/plain": [
       "[<matplotlib.lines.Line2D at 0x330674c50>]"
      ]
     },
     "execution_count": 150,
     "metadata": {},
     "output_type": "execute_result"
    },
    {
     "data": {
      "image/png": "[encoded data removed]",
      "text/plain": [
       "<Figure size 640x480 with 1 Axes>"
      ]
     },
     "metadata": {},
     "output_type": "display_data"
    }
   ],
   "source": [
    "n_runs = 2000\n",
    "\n",
    "n_steps = 1000\n",
    "\n",
    "eps = 0.01\n",
    "n_a_runs = []\n",
    "q_a_runs = []\n",
    "r_a_runs = []\n",
    "for run in range(n_runs):\n",
    "    q_star_a,n_a,q_a,r_a,a_steps = one_run(eps,k=10,steps=n_steps)\n",
    "        \n",
    "    n_a_runs.append(n_a.copy())\n",
    "    q_a_runs.append(q_a.copy())\n",
    "    r_a_runs.append(r_a.copy())\n",
    "\n",
    "r_values= np.array(r_a_runs)\n",
    "avg_rewards = [0]\n",
    "for step in range(n_steps):\n",
    "    mean = np.mean(r_values[:][step])\n",
    "    avg_rewards.append(mean)\n",
    "\n",
    "plt.yticks(np.arange(0, 2, 0.5))\n",
    "plt.plot(avg_rewards)"
   ]
  },
  {
   "cell_type": "code",
   "execution_count": 139,
   "id": "9c1106fd-47ff-48cf-b416-7d191393d59a",
   "metadata": {},
   "outputs": [
    {
     "data": {
      "text/plain": [
       "[<matplotlib.lines.Line2D at 0x3234301d0>]"
      ]
     },
     "execution_count": 139,
     "metadata": {},
     "output_type": "execute_result"
    },
    {
     "data": {
      "image/png": "[encoded data removed]",
      "text/plain": [
       "<Figure size 640x480 with 1 Axes>"
      ]
     },
     "metadata": {},
     "output_type": "display_data"
    }
   ],
   "source": [
    "n_runs = 2000\n",
    "\n",
    "n_steps = 1000\n",
    "\n",
    "eps = 0\n",
    "n_a_runs = []\n",
    "q_a_runs = []\n",
    "r_a_runs = []\n",
    "for run in range(n_runs):\n",
    "    q_star_a,n_a,q_a,r_a,a_steps = one_run(eps,k=10,steps=n_steps)\n",
    "        \n",
    "    n_a_runs.append(n_a.copy())\n",
    "    q_a_runs.append(q_a.copy())\n",
    "    r_a_runs.append(r_a.copy())\n",
    "\n",
    "r_values= np.array(r_a_runs)\n",
    "avg_rewards = [0]\n",
    "for step in range(n_steps):\n",
    "    mean = np.mean(r_values[:][step])\n",
    "    avg_rewards.append(mean)\n",
    "\n",
    "plt.yticks(np.arange(0, 2, 0.5))\n",
    "plt.plot(avg_rewards)"
   ]
  },
  {
   "cell_type": "code",
   "execution_count": 143,
   "id": "ce449afa-d5d3-438c-b654-4504bdbcfff5",
   "metadata": {},
   "outputs": [
    {
     "data": {
      "image/png": "[encoded data removed]",
      "text/plain": [
       "<Figure size 640x480 with 1 Axes>"
      ]
     },
     "metadata": {},
     "output_type": "display_data"
    }
   ],
   "source": [
    "from scipy.interpolate import make_interp_spline, BSpline\n",
    "#define spline\n",
    "spl = make_interp_spline(range(1001), avg_rewards, k=3)\n",
    "y_smooth = spl(range(1001))\n",
    "\n",
    "#create smooth line chart \n",
    "plt.plot(range(1001), y_smooth)\n",
    "plt.show()"
   ]
  },
  {
   "cell_type": "code",
   "execution_count": 151,
   "id": "ffcefeb7-cfcf-4702-99a5-857007ec6f87",
   "metadata": {},
   "outputs": [
    {
     "data": {
      "image/png": "[encoded data removed]",
      "text/plain": [
       "<Figure size 640x480 with 1 Axes>"
      ]
     },
     "metadata": {},
     "output_type": "display_data"
    }
   ],
   "source": [
    "from scipy.signal import lfilter\n",
    "\n",
    "n = 100             # larger n gives smoother curves\n",
    "b = [1.0 / n] * n  # numerator coefficients\n",
    "a = 1              # denominator coefficient\n",
    "y_lf = lfilter(b, a, avg_rewards)\n",
    "X=range(1001)\n",
    "plt.plot(X, y_lf)\n",
    "plt.show()"
   ]
  },
  {
   "cell_type": "code",
   "execution_count": 169,
   "id": "a2ed2754-7591-40c5-bd14-5f532144235b",
   "metadata": {},
   "outputs": [
    {
     "data": {
      "text/plain": [
       "array([ 0.17834558, -0.73293261, -0.22744061, -0.7516327 , -1.85777701,\n",
       "        0.86119441,  0.80472546, -0.73897187, -0.23689314, -0.12348276])"
      ]
     },
     "execution_count": 169,
     "metadata": {},
     "output_type": "execute_result"
    }
   ],
   "source": [
    "np.random.randn(10) + 0"
   ]
  },
  {
   "cell_type": "markdown",
   "id": "0949a433-7eac-42da-89ed-b397fbcbc3c6",
   "metadata": {},
   "source": [
    "# Final"
   ]
  },
  {
   "cell_type": "code",
   "execution_count": null,
   "id": "e82e2e0f-d2d8-48d1-96d3-89aeaecf04f3",
   "metadata": {},
   "outputs": [],
   "source": [
    "k=10\n",
    "q_star_a = np.random.normal(0,1,k)\n",
    "print(q_star_a)\n",
    "\n",
    "def max_index(q_a):\n",
    "    #break ties randomly\n",
    "    q_a = np.array(q_a)\n",
    "    return np.random.choice(np.where(q_a == q_a.max())[0])\n",
    "\n",
    "def bandit(a,q_star_a):\n",
    "    #each reward for the action will come fromthe prob distribution of that action\n",
    "    #which has a mean of q*(a) and variance of 1\n",
    "    reward = np.random.normal(q_star_a[a],1) \n",
    "    return reward\n",
    "    \n",
    "def one_run(eps,k,steps):\n",
    "    \n",
    "    q_a = [0]*k\n",
    "    n_a = [0]*k\n",
    "    n_a_steps = []\n",
    "    q_a_steps = []\n",
    "    r_steps =[0]\n",
    "    a_steps =[]\n",
    "  \n",
    "    for step in range(steps):\n",
    "        if np.random.random() < eps:\n",
    "            a = np.random.choice(range(k))\n",
    "        else:\n",
    "            a = max_index(q_a)\n",
    "        #print(f'Action: {a}')\n",
    "        r = bandit(a,q_star_a)\n",
    "    \n",
    "        \n",
    "        a_steps.append(a)\n",
    "\n",
    "        n_a[a] += 1\n",
    "        q_a[a] = q_a[a] + (1/n_a[a]) * (r - q_a[a])\n",
    "       \n",
    "        n_a_steps.append(n_a.copy())\n",
    "        q_a_steps.append(q_a.copy())\n",
    "        r_steps.append(r)\n",
    "    \n",
    "    return q_star_a, n_a_steps, q_a_steps, r_steps, a_steps\n",
    "\n",
    "\n"
   ]
  },
  {
   "cell_type": "code",
   "execution_count": 174,
   "id": "cb0dcd51-52a7-49cc-8fe7-8b1165a8c3a1",
   "metadata": {},
   "outputs": [],
   "source": [
    "def run_bandit(n_runs=2000,n_steps=1000,eps=0.01):\n",
    "    n_a_runs = []\n",
    "    q_a_runs = []\n",
    "    r_a_runs = []\n",
    "    for run in range(n_runs):\n",
    "        q_star_a,n_a,q_a,r_a,a_steps = one_run(eps,k=10,steps=n_steps)\n",
    "            \n",
    "        n_a_runs.append(n_a.copy())\n",
    "        q_a_runs.append(q_a.copy())\n",
    "        r_a_runs.append(r_a.copy())\n",
    "    \n",
    "    r_values= np.array(r_a_runs)\n",
    "    avg_rewards = r_values.mean(axis=0)\n",
    "    return avg_rewards"
   ]
  },
  {
   "cell_type": "code",
   "execution_count": 178,
   "id": "2af7e6c4-0526-4153-8137-d6f0c477c854",
   "metadata": {},
   "outputs": [
    {
     "data": {
      "text/plain": [
       "<matplotlib.legend.Legend at 0x334d76630>"
      ]
     },
     "execution_count": 178,
     "metadata": {},
     "output_type": "execute_result"
    },
    {
     "data": {
      "image/png": "[encoded data removed]",
      "text/plain": [
       "<Figure size 640x480 with 1 Axes>"
      ]
     },
     "metadata": {},
     "output_type": "display_data"
    }
   ],
   "source": [
    "n_steps=3000\n",
    "rewards = run_bandit(n_steps=n_steps,eps=0.01)\n",
    "plt.plot(rewards,label=f'epsilon=0.01');\n",
    "plt.legend()\n",
    "\n",
    "rewards = run_bandit(n_steps=n_steps,eps=0.1)\n",
    "plt.plot(rewards,label=f'epsilon=0.1');\n",
    "plt.legend()\n",
    "\n",
    "rewards = run_bandit(n_steps=n_steps,eps=0.0)\n",
    "plt.plot(rewards,label=f'epsilon=0.0');\n",
    "plt.legend()"
   ]
  },
  {
   "cell_type": "code",
   "execution_count": null,
   "id": "173aefa6-bfc0-461b-a766-1387ab34e9f6",
   "metadata": {},
   "outputs": [],
   "source": []
  }
 ],
 "metadata": {
  "kernelspec": {
   "display_name": "Python 3 (ipykernel)",
   "language": "python",
   "name": "python3"
  },
  "language_info": {
   "codemirror_mode": {
    "name": "ipython",
    "version": 3
   },
   "file_extension": ".py",
   "mimetype": "text/x-python",
   "name": "python",
   "nbconvert_exporter": "python",
   "pygments_lexer": "ipython3",
   "version": "3.12.4"
  }
 },
 "nbformat": 4,
 "nbformat_minor": 5
}
